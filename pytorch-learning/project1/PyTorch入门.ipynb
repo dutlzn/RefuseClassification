{
 "cells": [
  {
   "cell_type": "code",
   "execution_count": 1,
   "metadata": {},
   "outputs": [
    {
     "output_type": "execute_result",
     "data": {
      "text/plain": "'1.0.1'"
     },
     "metadata": {},
     "execution_count": 1
    }
   ],
   "source": [
    "import torch \n",
    "torch.__version__ "
   ]
  },
  {
   "cell_type": "code",
   "execution_count": 2,
   "metadata": {},
   "outputs": [
    {
     "output_type": "execute_result",
     "data": {
      "text/plain": "tensor([[0.0000e+00, 0.0000e+00, 0.0000e+00],\n        [0.0000e+00, 0.0000e+00, 0.0000e+00],\n        [0.0000e+00, 0.0000e+00, 0.0000e+00],\n        [0.0000e+00, 1.8049e-42, 0.0000e+00],\n        [0.0000e+00, 0.0000e+00, 0.0000e+00]])"
     },
     "metadata": {},
     "execution_count": 2
    }
   ],
   "source": [
    "x = torch.empty(5, 3)\n",
    "x"
   ]
  },
  {
   "cell_type": "code",
   "execution_count": 3,
   "metadata": {},
   "outputs": [
    {
     "output_type": "execute_result",
     "data": {
      "text/plain": "tensor([[0.7993, 0.8945, 0.4422],\n        [0.8694, 0.1116, 0.0062],\n        [0.8745, 0.3672, 0.1324],\n        [0.5240, 0.1751, 0.9508],\n        [0.7875, 0.3841, 0.2546]])"
     },
     "metadata": {},
     "execution_count": 3
    }
   ],
   "source": [
    "# 随机值\n",
    "x = torch.rand(5,3)\n",
    "x "
   ]
  },
  {
   "cell_type": "code",
   "execution_count": 4,
   "metadata": {},
   "outputs": [
    {
     "output_type": "execute_result",
     "data": {
      "text/plain": "tensor([[0, 0, 0],\n        [0, 0, 0],\n        [0, 0, 0],\n        [0, 0, 0],\n        [0, 0, 0]])"
     },
     "metadata": {},
     "execution_count": 4
    }
   ],
   "source": [
    " # 构建全0\n",
    " x = torch.zeros(5, 3, dtype=torch.long)\n",
    " x "
   ]
  },
  {
   "cell_type": "code",
   "execution_count": 5,
   "metadata": {},
   "outputs": [
    {
     "output_type": "execute_result",
     "data": {
      "text/plain": "tensor([5.3000, 3.0000])"
     },
     "metadata": {},
     "execution_count": 5
    }
   ],
   "source": [
    "# 直接传入数据\n",
    "x = torch.tensor([5.3, 3])\n",
    "x"
   ]
  },
  {
   "cell_type": "code",
   "execution_count": 6,
   "metadata": {},
   "outputs": [
    {
     "output_type": "execute_result",
     "data": {
      "text/plain": "tensor([[ 0.2707,  0.2683, -0.9081],\n        [-0.6269, -0.8675,  0.1518],\n        [ 1.7256, -0.9472, -1.0004],\n        [-0.1140, -0.4884,  0.2037],\n        [ 2.8607, -1.7321,  0.0737]])"
     },
     "metadata": {},
     "execution_count": 6
    }
   ],
   "source": [
    "x = x.new_ones(5, 3, dtype=torch.double) # 继承了device 和 dtype的属性\n",
    "x = torch.randn_like(x, dtype=torch.float)\n",
    "x"
   ]
  },
  {
   "cell_type": "code",
   "execution_count": 7,
   "metadata": {},
   "outputs": [
    {
     "output_type": "execute_result",
     "data": {
      "text/plain": "torch.Size([5, 3])"
     },
     "metadata": {},
     "execution_count": 7
    }
   ],
   "source": [
    "# 显示矩阵大小\n",
    "x.size()"
   ]
  },
  {
   "cell_type": "code",
   "execution_count": 10,
   "metadata": {},
   "outputs": [
    {
     "output_type": "execute_result",
     "data": {
      "text/plain": "tensor([[0.2707, 0.2683, 0.9081],\n        [0.6269, 0.8675, 0.1518],\n        [1.7256, 0.9472, 1.0004],\n        [0.1140, 0.4884, 0.2037],\n        [2.8607, 1.7321, 0.0737]])"
     },
     "metadata": {},
     "execution_count": 10
    }
   ],
   "source": []
  },
  {
   "cell_type": "code",
   "execution_count": 11,
   "metadata": {},
   "outputs": [
    {
     "output_type": "execute_result",
     "data": {
      "text/plain": "tensor([[ 0.7175,  1.2551, -0.4345],\n        [-0.5894, -0.5477,  0.9889],\n        [ 1.9365, -0.9402, -0.7092],\n        [ 0.1965, -0.3672,  0.6780],\n        [ 3.6062, -1.2211,  0.9759]])"
     },
     "metadata": {},
     "execution_count": 11
    }
   ],
   "source": [
    "# 基本计算方法\n",
    "y = torch.rand(5, 3)\n",
    "y+x"
   ]
  },
  {
   "cell_type": "code",
   "execution_count": 12,
   "metadata": {},
   "outputs": [
    {
     "output_type": "execute_result",
     "data": {
      "text/plain": "tensor([[ 0.7175,  1.2551, -0.4345],\n        [-0.5894, -0.5477,  0.9889],\n        [ 1.9365, -0.9402, -0.7092],\n        [ 0.1965, -0.3672,  0.6780],\n        [ 3.6062, -1.2211,  0.9759]])"
     },
     "metadata": {},
     "execution_count": 12
    }
   ],
   "source": [
    "# 另一种假发\n",
    "torch.add(x, y)\n"
   ]
  },
  {
   "cell_type": "code",
   "execution_count": 13,
   "metadata": {},
   "outputs": [
    {
     "output_type": "execute_result",
     "data": {
      "text/plain": "tensor([[ 0.7175,  1.2551, -0.4345],\n        [-0.5894, -0.5477,  0.9889],\n        [ 1.9365, -0.9402, -0.7092],\n        [ 0.1965, -0.3672,  0.6780],\n        [ 3.6062, -1.2211,  0.9759]])"
     },
     "metadata": {},
     "execution_count": 13
    }
   ],
   "source": [
    "y.add(x)"
   ]
  },
  {
   "cell_type": "code",
   "execution_count": 14,
   "metadata": {},
   "outputs": [
    {
     "output_type": "execute_result",
     "data": {
      "text/plain": "tensor([ 0.2683, -0.8675, -0.9472, -0.4884, -1.7321])"
     },
     "metadata": {},
     "execution_count": 14
    }
   ],
   "source": [
    "# 索引\n",
    "x[:, 1]"
   ]
  },
  {
   "cell_type": "code",
   "execution_count": 15,
   "metadata": {},
   "outputs": [],
   "source": [
    "# torch.randn: 标准正态分布 torch.rand 均匀分布"
   ]
  },
  {
   "cell_type": "code",
   "execution_count": 16,
   "metadata": {
    "tags": []
   },
   "outputs": [
    {
     "output_type": "stream",
     "name": "stdout",
     "text": "torch.Size([4, 4]) torch.Size([16]) torch.Size([2, 8])\n"
    }
   ],
   "source": [
    "#view操作可以改变矩阵维度\n",
    "x = torch.randn(4,4)\n",
    "y = x.view(16)\n",
    "z = x.view(-1, 8)\n",
    "print(x.size(), y.size(), z.size())"
   ]
  },
  {
   "cell_type": "code",
   "execution_count": 17,
   "metadata": {},
   "outputs": [
    {
     "output_type": "execute_result",
     "data": {
      "text/plain": "array([1., 1., 1., 1., 1.], dtype=float32)"
     },
     "metadata": {},
     "execution_count": 17
    }
   ],
   "source": [
    "# 与numpy的协同操作\n",
    "a = torch.ones(5)\n",
    "b = a.numpy()\n",
    "b"
   ]
  },
  {
   "cell_type": "code",
   "execution_count": 18,
   "metadata": {},
   "outputs": [
    {
     "output_type": "execute_result",
     "data": {
      "text/plain": "tensor([1., 1., 1., 1., 1.], dtype=torch.float64)"
     },
     "metadata": {},
     "execution_count": 18
    }
   ],
   "source": [
    "import numpy as np\n",
    "a = np.ones(5)\n",
    "b = torch.from_numpy(a)\n",
    "b"
   ]
  },
  {
   "cell_type": "code",
   "execution_count": null,
   "metadata": {},
   "outputs": [],
   "source": []
  }
 ],
 "metadata": {
  "language_info": {
   "codemirror_mode": {
    "name": "ipython",
    "version": 3
   },
   "file_extension": ".py",
   "mimetype": "text/x-python",
   "name": "python",
   "nbconvert_exporter": "python",
   "pygments_lexer": "ipython3",
   "version": 3
  },
  "orig_nbformat": 2,
  "kernelspec": {
   "name": "python_defaultSpec_1596852710030",
   "display_name": "Python 3.7.0 64-bit ('Continuum': virtualenv)"
  }
 },
 "nbformat": 4,
 "nbformat_minor": 2
}