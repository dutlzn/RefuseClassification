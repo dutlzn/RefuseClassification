{
 "cells": [
  {
   "cell_type": "code",
   "execution_count": 12,
   "metadata": {},
   "outputs": [],
   "source": [
    "# 线性回归\n",
    "import torch\n",
    "import numpy as np "
   ]
  },
  {
   "cell_type": "code",
   "execution_count": 13,
   "metadata": {},
   "outputs": [
    {
     "output_type": "execute_result",
     "data": {
      "text/plain": "(11, 1)"
     },
     "metadata": {},
     "execution_count": 13
    }
   ],
   "source": [
    "x_values = [i for i  in range(11)]\n",
    "x_train = np.array(x_values, dtype=np.float32)\n",
    "x_train = x_train.reshape(-1, 1)\n",
    "x_train.shape"
   ]
  },
  {
   "cell_type": "code",
   "execution_count": 14,
   "metadata": {},
   "outputs": [
    {
     "output_type": "execute_result",
     "data": {
      "text/plain": "(11, 1)"
     },
     "metadata": {},
     "execution_count": 14
    }
   ],
   "source": [
    "y_values = [2*i for i in range(11)]\n",
    "y_train = np.array(y_values, dtype=np.float32)\n",
    "y_train = y_train.reshape(-1, 1)\n",
    "y_train.shape"
   ]
  },
  {
   "cell_type": "code",
   "execution_count": 15,
   "metadata": {},
   "outputs": [],
   "source": [
    "import torch\n",
    "import torch.nn as nn \n"
   ]
  },
  {
   "cell_type": "code",
   "execution_count": 16,
   "metadata": {},
   "outputs": [],
   "source": [
    "class LRModel(nn.Module):\n",
    "    def __init__(self, input_dim, output_dim):\n",
    "        super(LRModel, self).__init__()\n",
    "        self.linear = nn.Linear(input_dim, output_dim)\n",
    "    \n",
    "    def forward(self, x):\n",
    "        out = self.linear(x)\n",
    "        return out"
   ]
  },
  {
   "cell_type": "code",
   "execution_count": null,
   "metadata": {},
   "outputs": [],
   "source": []
  },
  {
   "cell_type": "code",
   "execution_count": 17,
   "metadata": {},
   "outputs": [],
   "source": [
    "input_dim = 1\n",
    "output_dim = 1\n",
    "model = LRModel(input_dim, output_dim)"
   ]
  },
  {
   "cell_type": "code",
   "execution_count": 18,
   "metadata": {
    "tags": []
   },
   "outputs": [
    {
     "output_type": "execute_result",
     "data": {
      "text/plain": "LRModel(\n  (linear): Linear(in_features=1, out_features=1, bias=True)\n)"
     },
     "metadata": {},
     "execution_count": 18
    }
   ],
   "source": [
    "# 打印模型\n",
    "model"
   ]
  },
  {
   "cell_type": "code",
   "execution_count": 19,
   "metadata": {},
   "outputs": [],
   "source": [
    "# # 指定好参数和损失函数\n",
    "epochs = 1000\n",
    "learning_rate = 0.01\n",
    "optimizer = torch.optim.SGD(\n",
    "    model.parameters(),\n",
    "    lr=learning_rate\n",
    ")\n",
    "criterion = nn.MSELoss()  # 回归 mse"
   ]
  },
  {
   "cell_type": "code",
   "execution_count": 21,
   "metadata": {
    "tags": []
   },
   "outputs": [
    {
     "output_type": "stream",
     "name": "stdout",
     "text": "epoch:50, loss:0.00011198004358448088\nepoch:100, loss:6.387355824699625e-05\nepoch:150, loss:3.642803858383559e-05\nepoch:200, loss:2.0776891688001342e-05\nepoch:250, loss:1.1851147064589895e-05\nepoch:300, loss:6.759258667443646e-06\nepoch:350, loss:3.855451723211445e-06\nepoch:400, loss:2.1990267669025343e-06\nepoch:450, loss:1.2544056744445697e-06\nepoch:500, loss:7.152238481467066e-07\nepoch:550, loss:4.081405791112047e-07\nepoch:600, loss:2.325805610325915e-07\nepoch:650, loss:1.3277305299652653e-07\nepoch:700, loss:7.563092907503233e-08\nepoch:750, loss:4.315495161222316e-08\nepoch:800, loss:2.460973291817936e-08\nepoch:850, loss:1.4066076303720365e-08\nepoch:900, loss:8.001403095647674e-09\nepoch:950, loss:4.585971158377333e-09\nepoch:1000, loss:2.614834349046191e-09\n"
    }
   ],
   "source": [
    "# 训练模型\n",
    "for epoch in range(epochs):\n",
    "    epoch += 1\n",
    "    # numpy ==> torch\n",
    "    inputs = torch.from_numpy(x_train)\n",
    "    labels = torch.from_numpy(y_train)\n",
    "\n",
    "    # 梯度要清零\n",
    "    optimizer.zero_grad()\n",
    "\n",
    "    # 前向传播\n",
    "    outputs = model(inputs)\n",
    "\n",
    "    # 计算损失\n",
    "    loss = criterion(outputs, labels)\n",
    "    \n",
    "    # 反向传播\n",
    "    loss.backward()\n",
    "\n",
    "    # 更新权重参数\n",
    "    optimizer.step()\n",
    "\n",
    "    if epoch % 50 == 0:\n",
    "        print('epoch:{}, loss:{}'.format(epoch, loss.item()))\n"
   ]
  },
  {
   "cell_type": "code",
   "execution_count": 23,
   "metadata": {},
   "outputs": [],
   "source": [
    "# 模型测试\n",
    "predicted = model(\n",
    "    torch.from_numpy(x_train).requires_grad_()\n",
    ").data.numpy()"
   ]
  },
  {
   "cell_type": "code",
   "execution_count": 24,
   "metadata": {},
   "outputs": [
    {
     "output_type": "execute_result",
     "data": {
      "text/plain": "array([[9.4927003e-05],\n       [2.0000813e+00],\n       [4.0000677e+00],\n       [6.0000539e+00],\n       [8.0000410e+00],\n       [1.0000028e+01],\n       [1.2000013e+01],\n       [1.4000000e+01],\n       [1.5999987e+01],\n       [1.7999973e+01],\n       [1.9999960e+01]], dtype=float32)"
     },
     "metadata": {},
     "execution_count": 24
    }
   ],
   "source": [
    "predicted"
   ]
  },
  {
   "cell_type": "code",
   "execution_count": 25,
   "metadata": {},
   "outputs": [],
   "source": [
    "# 模型的保存与读取\n",
    "torch.save(model.state_dict(), 'model.pkl')"
   ]
  },
  {
   "cell_type": "code",
   "execution_count": 26,
   "metadata": {},
   "outputs": [],
   "source": [
    "model.load_state_dict(torch.load('model.pkl'))"
   ]
  },
  {
   "cell_type": "code",
   "execution_count": 31,
   "metadata": {},
   "outputs": [
    {
     "output_type": "execute_result",
     "data": {
      "text/plain": "LRModel(\n  (linear): Linear(in_features=1, out_features=1, bias=True)\n)"
     },
     "metadata": {},
     "execution_count": 31
    }
   ],
   "source": [
    "# 使用GPU训练\n",
    "class LRModel(nn.Module):\n",
    "    def __init__(self, input_dim, output_dim):\n",
    "        super(LRModel, self).__init__()\n",
    "        self.linear = nn.Linear(input_dim, output_dim)\n",
    "    \n",
    "    def forward(self, x):\n",
    "        out = self.linear(x)\n",
    "        return out\n",
    "input_dim = 1\n",
    "output_dim = 1\n",
    "model = LRModel(input_dim, output_dim)\n",
    "device = torch.device(\"cuda:0\" if torch.cuda.is_available() else \"cpu\")\n",
    "model.to(device)\n",
    "\n",
    "# inputs = torch.from_numpy(x_train).to(device)\n",
    "# labels = torch.from_numpy(y_train).to(device)"
   ]
  },
  {
   "cell_type": "code",
   "execution_count": 30,
   "metadata": {},
   "outputs": [
    {
     "output_type": "execute_result",
     "data": {
      "text/plain": "device(type='cpu')"
     },
     "metadata": {},
     "execution_count": 30
    }
   ],
   "source": []
  },
  {
   "cell_type": "code",
   "execution_count": null,
   "metadata": {},
   "outputs": [],
   "source": []
  },
  {
   "cell_type": "code",
   "execution_count": null,
   "metadata": {},
   "outputs": [],
   "source": []
  },
  {
   "cell_type": "code",
   "execution_count": null,
   "metadata": {},
   "outputs": [],
   "source": []
  },
  {
   "cell_type": "code",
   "execution_count": null,
   "metadata": {},
   "outputs": [],
   "source": []
  }
 ],
 "metadata": {
  "language_info": {
   "codemirror_mode": {
    "name": "ipython",
    "version": 3
   },
   "file_extension": ".py",
   "mimetype": "text/x-python",
   "name": "python",
   "nbconvert_exporter": "python",
   "pygments_lexer": "ipython3",
   "version": 3
  },
  "orig_nbformat": 2,
  "kernelspec": {
   "name": "python_defaultSpec_1596855130328",
   "display_name": "Python 3.7.0 64-bit ('Continuum': virtualenv)"
  }
 },
 "nbformat": 4,
 "nbformat_minor": 2
}