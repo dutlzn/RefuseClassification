{
 "cells": [
  {
   "cell_type": "markdown",
   "metadata": {},
   "source": [
    "## 数据分析概括"
   ]
  },
  {
   "cell_type": "markdown",
   "metadata": {},
   "source": [
    "## 整体数据探测"
   ]
  },
  {
   "cell_type": "code",
   "execution_count": 1,
   "metadata": {
    "tags": []
   },
   "outputs": [
    {
     "output_type": "stream",
     "name": "stdout",
     "text": "../../data/garbage_classify/train_data\n************************************************************\n整个目录: ../../data/garbage_classify/train_data\n所有数目: 29604\n文件名例子: ['img_1.jpg', 'img_1.txt', 'img_10.jpg', 'img_10.txt', 'img_100.jpg']\n"
    }
   ],
   "source": [
    "import os \n",
    "from os import walk #方法用于通过在目录树中游走输出在目录中的文件名，向上或者向下。\n",
    "\n",
    "base_path = '../../data/'\n",
    "data_path = os.path.join(base_path, 'garbage_classify/train_data')\n",
    "\n",
    "# 数据路径\n",
    "print(data_path)\n",
    "\n",
    "for (dirpath, dirname, filename) in walk(data_path):\n",
    "    print(\"*\"*60)\n",
    "\n",
    "    print(\"整个目录:\",dirpath)\n",
    "\n",
    "    print(\"所有数目:\",len(filename))\n",
    "\n",
    "    print(\"文件名例子:\", filename[:5])"
   ]
  },
  {
   "cell_type": "markdown",
   "metadata": {},
   "source": [
    "我们需要分析 *.txt 文件 然后img.txt \n",
    "首先 我们需要配置 txt文件输出\n"
   ]
  },
  {
   "cell_type": "code",
   "execution_count": 2,
   "metadata": {
    "tags": [
     "outputPrepend"
    ]
   },
   "outputs": [
    {
     "output_type": "stream",
     "name": "stdout",
     "text": "age_classify/train_data\\img_954.txt\n../../data/garbage_classify/train_data\\img_9540.txt\n../../data/garbage_classify/train_data\\img_9541.txt\n../../data/garbage_classify/train_data\\img_9542.txt\n../../data/garbage_classify/train_data\\img_9543.txt\n../../data/garbage_classify/train_data\\img_9544.txt\n../../data/garbage_classify/train_data\\img_9545.txt\n../../data/garbage_classify/train_data\\img_9546.txt\n../../data/garbage_classify/train_data\\img_9547.txt\n../../data/garbage_classify/train_data\\img_9548.txt\n../../data/garbage_classify/train_data\\img_9549.txt\n../../data/garbage_classify/train_data\\img_9551.txt\n../../data/garbage_classify/train_data\\img_9552.txt\n../../data/garbage_classify/train_data\\img_9553.txt\n../../data/garbage_classify/train_data\\img_9555.txt\n../../data/garbage_classify/train_data\\img_9556.txt\n../../data/garbage_classify/train_data\\img_9557.txt\n../../data/garbage_classify/train_data\\img_9559.txt\n../../data/garbage_classify/train_data\\img_956.txt\n../../data/garbage_classify/train_data\\img_9560.txt\n../../data/garbage_classify/train_data\\img_9562.txt\n../../data/garbage_classify/train_data\\img_9564.txt\n../../data/garbage_classify/train_data\\img_9565.txt\n../../data/garbage_classify/train_data\\img_9566.txt\n../../data/garbage_classify/train_data\\img_9568.txt\n../../data/garbage_classify/train_data\\img_9572.txt\n../../data/garbage_classify/train_data\\img_9574.txt\n../../data/garbage_classify/train_data\\img_9575.txt\n../../data/garbage_classify/train_data\\img_9576.txt\n../../data/garbage_classify/train_data\\img_9578.txt\n../../data/garbage_classify/train_data\\img_958.txt\n../../data/garbage_classify/train_data\\img_9580.txt\n../../data/garbage_classify/train_data\\img_9581.txt\n../../data/garbage_classify/train_data\\img_9582.txt\n../../data/garbage_classify/train_data\\img_9584.txt\n../../data/garbage_classify/train_data\\img_9585.txt\n../../data/garbage_classify/train_data\\img_9587.txt\n../../data/garbage_classify/train_data\\img_9588.txt\n../../data/garbage_classify/train_data\\img_9589.txt\n../../data/garbage_classify/train_data\\img_959.txt\n../../data/garbage_classify/train_data\\img_9590.txt\n../../data/garbage_classify/train_data\\img_9591.txt\n../../data/garbage_classify/train_data\\img_9592.txt\n../../data/garbage_classify/train_data\\img_9593.txt\n../../data/garbage_classify/train_data\\img_9594.txt\n../../data/garbage_classify/train_data\\img_9595.txt\n../../data/garbage_classify/train_data\\img_9597.txt\n../../data/garbage_classify/train_data\\img_9598.txt\n../../data/garbage_classify/train_data\\img_9599.txt\n../../data/garbage_classify/train_data\\img_96.txt\n../../data/garbage_classify/train_data\\img_960.txt\n../../data/garbage_classify/train_data\\img_9600.txt\n../../data/garbage_classify/train_data\\img_9603.txt\n../../data/garbage_classify/train_data\\img_9604.txt\n../../data/garbage_classify/train_data\\img_9605.txt\n../../data/garbage_classify/train_data\\img_9606.txt\n../../data/garbage_classify/train_data\\img_961.txt\n../../data/garbage_classify/train_data\\img_9610.txt\n../../data/garbage_classify/train_data\\img_9611.txt\n../../data/garbage_classify/train_data\\img_9613.txt\n../../data/garbage_classify/train_data\\img_9614.txt\n../../data/garbage_classify/train_data\\img_9615.txt\n../../data/garbage_classify/train_data\\img_9616.txt\n../../data/garbage_classify/train_data\\img_9617.txt\n../../data/garbage_classify/train_data\\img_9619.txt\n../../data/garbage_classify/train_data\\img_962.txt\n../../data/garbage_classify/train_data\\img_9621.txt\n../../data/garbage_classify/train_data\\img_9622.txt\n../../data/garbage_classify/train_data\\img_9623.txt\n../../data/garbage_classify/train_data\\img_9624.txt\n../../data/garbage_classify/train_data\\img_9625.txt\n../../data/garbage_classify/train_data\\img_9626.txt\n../../data/garbage_classify/train_data\\img_9627.txt\n../../data/garbage_classify/train_data\\img_9628.txt\n../../data/garbage_classify/train_data\\img_9629.txt\n../../data/garbage_classify/train_data\\img_9630.txt\n../../data/garbage_classify/train_data\\img_9631.txt\n../../data/garbage_classify/train_data\\img_9633.txt\n../../data/garbage_classify/train_data\\img_9634.txt\n../../data/garbage_classify/train_data\\img_9636.txt\n../../data/garbage_classify/train_data\\img_9637.txt\n../../data/garbage_classify/train_data\\img_9639.txt\n../../data/garbage_classify/train_data\\img_964.txt\n../../data/garbage_classify/train_data\\img_9640.txt\n../../data/garbage_classify/train_data\\img_9641.txt\n../../data/garbage_classify/train_data\\img_9642.txt\n../../data/garbage_classify/train_data\\img_9643.txt\n../../data/garbage_classify/train_data\\img_9645.txt\n../../data/garbage_classify/train_data\\img_9647.txt\n../../data/garbage_classify/train_data\\img_9648.txt\n../../data/garbage_classify/train_data\\img_9649.txt\n../../data/garbage_classify/train_data\\img_965.txt\n../../data/garbage_classify/train_data\\img_9651.txt\n../../data/garbage_classify/train_data\\img_9652.txt\n../../data/garbage_classify/train_data\\img_9653.txt\n../../data/garbage_classify/train_data\\img_9654.txt\n../../data/garbage_classify/train_data\\img_9655.txt\n../../data/garbage_classify/train_data\\img_9656.txt\n../../data/garbage_classify/train_data\\img_9658.txt\n../../data/garbage_classify/train_data\\img_9659.txt\n../../data/garbage_classify/train_data\\img_9661.txt\n../../data/garbage_classify/train_data\\img_9662.txt\n../../data/garbage_classify/train_data\\img_9664.txt\n../../data/garbage_classify/train_data\\img_9665.txt\n../../data/garbage_classify/train_data\\img_9667.txt\n../../data/garbage_classify/train_data\\img_9668.txt\n../../data/garbage_classify/train_data\\img_967.txt\n../../data/garbage_classify/train_data\\img_9670.txt\n../../data/garbage_classify/train_data\\img_9671.txt\n../../data/garbage_classify/train_data\\img_9672.txt\n../../data/garbage_classify/train_data\\img_9673.txt\n../../data/garbage_classify/train_data\\img_9674.txt\n../../data/garbage_classify/train_data\\img_9675.txt\n../../data/garbage_classify/train_data\\img_9676.txt\n../../data/garbage_classify/train_data\\img_9677.txt\n../../data/garbage_classify/train_data\\img_9678.txt\n../../data/garbage_classify/train_data\\img_9679.txt\n../../data/garbage_classify/train_data\\img_968.txt\n../../data/garbage_classify/train_data\\img_9680.txt\n../../data/garbage_classify/train_data\\img_9681.txt\n../../data/garbage_classify/train_data\\img_9682.txt\n../../data/garbage_classify/train_data\\img_9685.txt\n../../data/garbage_classify/train_data\\img_9686.txt\n../../data/garbage_classify/train_data\\img_9688.txt\n../../data/garbage_classify/train_data\\img_9689.txt\n../../data/garbage_classify/train_data\\img_969.txt\n../../data/garbage_classify/train_data\\img_9691.txt\n../../data/garbage_classify/train_data\\img_9692.txt\n../../data/garbage_classify/train_data\\img_9694.txt\n../../data/garbage_classify/train_data\\img_9695.txt\n../../data/garbage_classify/train_data\\img_9696.txt\n../../data/garbage_classify/train_data\\img_9698.txt\n../../data/garbage_classify/train_data\\img_9699.txt\n../../data/garbage_classify/train_data\\img_97.txt\n../../data/garbage_classify/train_data\\img_970.txt\n../../data/garbage_classify/train_data\\img_9700.txt\n../../data/garbage_classify/train_data\\img_9702.txt\n../../data/garbage_classify/train_data\\img_9703.txt\n../../data/garbage_classify/train_data\\img_9704.txt\n../../data/garbage_classify/train_data\\img_9705.txt\n../../data/garbage_classify/train_data\\img_9706.txt\n../../data/garbage_classify/train_data\\img_9707.txt\n../../data/garbage_classify/train_data\\img_9708.txt\n../../data/garbage_classify/train_data\\img_9709.txt\n../../data/garbage_classify/train_data\\img_971.txt\n../../data/garbage_classify/train_data\\img_9710.txt\n../../data/garbage_classify/train_data\\img_9711.txt\n../../data/garbage_classify/train_data\\img_9712.txt\n../../data/garbage_classify/train_data\\img_9714.txt\n../../data/garbage_classify/train_data\\img_9715.txt\n../../data/garbage_classify/train_data\\img_9716.txt\n../../data/garbage_classify/train_data\\img_9717.txt\n../../data/garbage_classify/train_data\\img_9718.txt\n../../data/garbage_classify/train_data\\img_9719.txt\n../../data/garbage_classify/train_data\\img_972.txt\n../../data/garbage_classify/train_data\\img_9720.txt\n../../data/garbage_classify/train_data\\img_9721.txt\n../../data/garbage_classify/train_data\\img_9722.txt\n../../data/garbage_classify/train_data\\img_9723.txt\n../../data/garbage_classify/train_data\\img_9724.txt\n../../data/garbage_classify/train_data\\img_9725.txt\n../../data/garbage_classify/train_data\\img_9726.txt\n../../data/garbage_classify/train_data\\img_9728.txt\n../../data/garbage_classify/train_data\\img_9729.txt\n../../data/garbage_classify/train_data\\img_973.txt\n../../data/garbage_classify/train_data\\img_9731.txt\n../../data/garbage_classify/train_data\\img_9732.txt\n../../data/garbage_classify/train_data\\img_9733.txt\n../../data/garbage_classify/train_data\\img_9734.txt\n../../data/garbage_classify/train_data\\img_9735.txt\n../../data/garbage_classify/train_data\\img_9736.txt\n../../data/garbage_classify/train_data\\img_9737.txt\n../../data/garbage_classify/train_data\\img_9739.txt\n../../data/garbage_classify/train_data\\img_974.txt\n../../data/garbage_classify/train_data\\img_9740.txt\n../../data/garbage_classify/train_data\\img_9741.txt\n../../data/garbage_classify/train_data\\img_9742.txt\n../../data/garbage_classify/train_data\\img_9744.txt\n../../data/garbage_classify/train_data\\img_9745.txt\n../../data/garbage_classify/train_data\\img_9746.txt\n../../data/garbage_classify/train_data\\img_9747.txt\n../../data/garbage_classify/train_data\\img_9748.txt\n../../data/garbage_classify/train_data\\img_9749.txt\n../../data/garbage_classify/train_data\\img_975.txt\n../../data/garbage_classify/train_data\\img_9752.txt\n../../data/garbage_classify/train_data\\img_9755.txt\n../../data/garbage_classify/train_data\\img_9756.txt\n../../data/garbage_classify/train_data\\img_9758.txt\n../../data/garbage_classify/train_data\\img_9759.txt\n../../data/garbage_classify/train_data\\img_976.txt\n../../data/garbage_classify/train_data\\img_9760.txt\n../../data/garbage_classify/train_data\\img_9761.txt\n../../data/garbage_classify/train_data\\img_9762.txt\n../../data/garbage_classify/train_data\\img_9763.txt\n../../data/garbage_classify/train_data\\img_9764.txt\n../../data/garbage_classify/train_data\\img_9765.txt\n../../data/garbage_classify/train_data\\img_9766.txt\n../../data/garbage_classify/train_data\\img_9769.txt\n../../data/garbage_classify/train_data\\img_977.txt\n../../data/garbage_classify/train_data\\img_9771.txt\n../../data/garbage_classify/train_data\\img_9772.txt\n../../data/garbage_classify/train_data\\img_9773.txt\n../../data/garbage_classify/train_data\\img_9775.txt\n../../data/garbage_classify/train_data\\img_9780.txt\n../../data/garbage_classify/train_data\\img_9781.txt\n../../data/garbage_classify/train_data\\img_9782.txt\n../../data/garbage_classify/train_data\\img_9785.txt\n../../data/garbage_classify/train_data\\img_9786.txt\n../../data/garbage_classify/train_data\\img_9788.txt\n../../data/garbage_classify/train_data\\img_979.txt\n../../data/garbage_classify/train_data\\img_9790.txt\n../../data/garbage_classify/train_data\\img_9791.txt\n../../data/garbage_classify/train_data\\img_9792.txt\n../../data/garbage_classify/train_data\\img_9794.txt\n../../data/garbage_classify/train_data\\img_9795.txt\n../../data/garbage_classify/train_data\\img_9796.txt\n../../data/garbage_classify/train_data\\img_9797.txt\n../../data/garbage_classify/train_data\\img_9798.txt\n../../data/garbage_classify/train_data\\img_9799.txt\n../../data/garbage_classify/train_data\\img_98.txt\n../../data/garbage_classify/train_data\\img_980.txt\n../../data/garbage_classify/train_data\\img_9801.txt\n../../data/garbage_classify/train_data\\img_9802.txt\n../../data/garbage_classify/train_data\\img_9803.txt\n../../data/garbage_classify/train_data\\img_9805.txt\n../../data/garbage_classify/train_data\\img_9806.txt\n../../data/garbage_classify/train_data\\img_9807.txt\n../../data/garbage_classify/train_data\\img_9808.txt\n../../data/garbage_classify/train_data\\img_9809.txt\n../../data/garbage_classify/train_data\\img_981.txt\n../../data/garbage_classify/train_data\\img_9810.txt\n../../data/garbage_classify/train_data\\img_9811.txt\n../../data/garbage_classify/train_data\\img_9813.txt\n../../data/garbage_classify/train_data\\img_9814.txt\n../../data/garbage_classify/train_data\\img_9815.txt\n../../data/garbage_classify/train_data\\img_9817.txt\n../../data/garbage_classify/train_data\\img_9818.txt\n../../data/garbage_classify/train_data\\img_982.txt\n../../data/garbage_classify/train_data\\img_9821.txt\n../../data/garbage_classify/train_data\\img_9822.txt\n../../data/garbage_classify/train_data\\img_9823.txt\n../../data/garbage_classify/train_data\\img_9824.txt\n../../data/garbage_classify/train_data\\img_9826.txt\n../../data/garbage_classify/train_data\\img_9828.txt\n../../data/garbage_classify/train_data\\img_9829.txt\n../../data/garbage_classify/train_data\\img_983.txt\n../../data/garbage_classify/train_data\\img_9830.txt\n../../data/garbage_classify/train_data\\img_9832.txt\n../../data/garbage_classify/train_data\\img_9835.txt\n../../data/garbage_classify/train_data\\img_9836.txt\n../../data/garbage_classify/train_data\\img_9837.txt\n../../data/garbage_classify/train_data\\img_9838.txt\n../../data/garbage_classify/train_data\\img_984.txt\n../../data/garbage_classify/train_data\\img_9842.txt\n../../data/garbage_classify/train_data\\img_9843.txt\n../../data/garbage_classify/train_data\\img_9845.txt\n../../data/garbage_classify/train_data\\img_9846.txt\n../../data/garbage_classify/train_data\\img_9847.txt\n../../data/garbage_classify/train_data\\img_985.txt\n../../data/garbage_classify/train_data\\img_9851.txt\n../../data/garbage_classify/train_data\\img_9853.txt\n../../data/garbage_classify/train_data\\img_9854.txt\n../../data/garbage_classify/train_data\\img_9855.txt\n../../data/garbage_classify/train_data\\img_9858.txt\n../../data/garbage_classify/train_data\\img_9859.txt\n../../data/garbage_classify/train_data\\img_986.txt\n../../data/garbage_classify/train_data\\img_9860.txt\n../../data/garbage_classify/train_data\\img_9862.txt\n../../data/garbage_classify/train_data\\img_9863.txt\n../../data/garbage_classify/train_data\\img_9864.txt\n../../data/garbage_classify/train_data\\img_9865.txt\n../../data/garbage_classify/train_data\\img_9867.txt\n../../data/garbage_classify/train_data\\img_9869.txt\n../../data/garbage_classify/train_data\\img_9870.txt\n../../data/garbage_classify/train_data\\img_9871.txt\n../../data/garbage_classify/train_data\\img_9872.txt\n../../data/garbage_classify/train_data\\img_9873.txt\n../../data/garbage_classify/train_data\\img_9874.txt\n../../data/garbage_classify/train_data\\img_9875.txt\n../../data/garbage_classify/train_data\\img_9876.txt\n../../data/garbage_classify/train_data\\img_9877.txt\n../../data/garbage_classify/train_data\\img_9878.txt\n../../data/garbage_classify/train_data\\img_9879.txt\n../../data/garbage_classify/train_data\\img_988.txt\n../../data/garbage_classify/train_data\\img_9880.txt\n../../data/garbage_classify/train_data\\img_9881.txt\n../../data/garbage_classify/train_data\\img_9882.txt\n../../data/garbage_classify/train_data\\img_9883.txt\n../../data/garbage_classify/train_data\\img_9884.txt\n../../data/garbage_classify/train_data\\img_9888.txt\n../../data/garbage_classify/train_data\\img_9889.txt\n../../data/garbage_classify/train_data\\img_9891.txt\n../../data/garbage_classify/train_data\\img_9892.txt\n../../data/garbage_classify/train_data\\img_9894.txt\n../../data/garbage_classify/train_data\\img_9896.txt\n../../data/garbage_classify/train_data\\img_9899.txt\n../../data/garbage_classify/train_data\\img_990.txt\n../../data/garbage_classify/train_data\\img_9901.txt\n../../data/garbage_classify/train_data\\img_9902.txt\n../../data/garbage_classify/train_data\\img_9903.txt\n../../data/garbage_classify/train_data\\img_9904.txt\n../../data/garbage_classify/train_data\\img_9906.txt\n../../data/garbage_classify/train_data\\img_9907.txt\n../../data/garbage_classify/train_data\\img_9908.txt\n../../data/garbage_classify/train_data\\img_9909.txt\n../../data/garbage_classify/train_data\\img_991.txt\n../../data/garbage_classify/train_data\\img_9911.txt\n../../data/garbage_classify/train_data\\img_9912.txt\n../../data/garbage_classify/train_data\\img_9913.txt\n../../data/garbage_classify/train_data\\img_9914.txt\n../../data/garbage_classify/train_data\\img_9915.txt\n../../data/garbage_classify/train_data\\img_9916.txt\n../../data/garbage_classify/train_data\\img_9917.txt\n../../data/garbage_classify/train_data\\img_9919.txt\n../../data/garbage_classify/train_data\\img_992.txt\n../../data/garbage_classify/train_data\\img_9920.txt\n../../data/garbage_classify/train_data\\img_9923.txt\n../../data/garbage_classify/train_data\\img_9924.txt\n../../data/garbage_classify/train_data\\img_9925.txt\n../../data/garbage_classify/train_data\\img_9926.txt\n../../data/garbage_classify/train_data\\img_9927.txt\n../../data/garbage_classify/train_data\\img_9928.txt\n../../data/garbage_classify/train_data\\img_9929.txt\n../../data/garbage_classify/train_data\\img_993.txt\n../../data/garbage_classify/train_data\\img_9931.txt\n../../data/garbage_classify/train_data\\img_9932.txt\n../../data/garbage_classify/train_data\\img_9933.txt\n../../data/garbage_classify/train_data\\img_9934.txt\n../../data/garbage_classify/train_data\\img_9935.txt\n../../data/garbage_classify/train_data\\img_9936.txt\n../../data/garbage_classify/train_data\\img_9937.txt\n../../data/garbage_classify/train_data\\img_9939.txt\n../../data/garbage_classify/train_data\\img_9940.txt\n../../data/garbage_classify/train_data\\img_9942.txt\n../../data/garbage_classify/train_data\\img_9943.txt\n../../data/garbage_classify/train_data\\img_9944.txt\n../../data/garbage_classify/train_data\\img_9945.txt\n../../data/garbage_classify/train_data\\img_9946.txt\n../../data/garbage_classify/train_data\\img_9947.txt\n../../data/garbage_classify/train_data\\img_9949.txt\n../../data/garbage_classify/train_data\\img_995.txt\n../../data/garbage_classify/train_data\\img_9950.txt\n../../data/garbage_classify/train_data\\img_9952.txt\n../../data/garbage_classify/train_data\\img_9954.txt\n../../data/garbage_classify/train_data\\img_9955.txt\n../../data/garbage_classify/train_data\\img_9958.txt\n../../data/garbage_classify/train_data\\img_9959.txt\n../../data/garbage_classify/train_data\\img_996.txt\n../../data/garbage_classify/train_data\\img_9960.txt\n../../data/garbage_classify/train_data\\img_9961.txt\n../../data/garbage_classify/train_data\\img_9963.txt\n../../data/garbage_classify/train_data\\img_9964.txt\n../../data/garbage_classify/train_data\\img_9965.txt\n../../data/garbage_classify/train_data\\img_9966.txt\n../../data/garbage_classify/train_data\\img_9967.txt\n../../data/garbage_classify/train_data\\img_9969.txt\n../../data/garbage_classify/train_data\\img_997.txt\n../../data/garbage_classify/train_data\\img_9972.txt\n../../data/garbage_classify/train_data\\img_9973.txt\n../../data/garbage_classify/train_data\\img_9974.txt\n../../data/garbage_classify/train_data\\img_9975.txt\n../../data/garbage_classify/train_data\\img_9976.txt\n../../data/garbage_classify/train_data\\img_9977.txt\n../../data/garbage_classify/train_data\\img_9978.txt\n../../data/garbage_classify/train_data\\img_998.txt\n../../data/garbage_classify/train_data\\img_9980.txt\n../../data/garbage_classify/train_data\\img_9981.txt\n../../data/garbage_classify/train_data\\img_9982.txt\n../../data/garbage_classify/train_data\\img_9984.txt\n../../data/garbage_classify/train_data\\img_9986.txt\n../../data/garbage_classify/train_data\\img_9988.txt\n../../data/garbage_classify/train_data\\img_9989.txt\n../../data/garbage_classify/train_data\\img_9991.txt\n../../data/garbage_classify/train_data\\img_9993.txt\n../../data/garbage_classify/train_data\\img_9994.txt\n../../data/garbage_classify/train_data\\img_9995.txt\n../../data/garbage_classify/train_data\\img_9996.txt\n../../data/garbage_classify/train_data\\img_9998.txt\n../../data/garbage_classify/train_data\\img_9999.txt\n{0: 242, 2: 279, 21: 657, 22: 375, 23: 309, 24: 318, 3: 85, 25: 550, 26: 351, 4: 387, 27: 536, 28: 382, 29: 416, 30: 321, 31: 446, 32: 280, 33: 322, 34: 395, 35: 351, 36: 265, 5: 289, 37: 322, 38: 391, 39: 437, 6: 395, 7: 362, 8: 380, 1: 370, 9: 389, 10: 387, 11: 736, 12: 331, 13: 409, 14: 357, 15: 419, 16: 352, 17: 309, 18: 362, 19: 312, 20: 226}\n"
    }
   ],
   "source": [
    "from glob import glob  # 用它可以查找符合自己目的的文件\n",
    "\n",
    "def get_image_info():\n",
    "\n",
    "    data_txt_path = os.path.join(data_path, '*.txt')\n",
    "    print(data_txt_path)\n",
    "    txt_file_path = glob(data_txt_path)\n",
    "    # print(txt_file_path[:2])|\n",
    "\n",
    "\n",
    "    ## 存储txt文件中的变量\n",
    "    img_path_list = []\n",
    "    img_name2label_dict = dict()\n",
    "    img_label_dict = dict()\n",
    "    # 读取文件中的内容\n",
    "    for file_path in txt_file_path:\n",
    "        print(file_path)\n",
    "        with open(file_path, 'r') as f:\n",
    "            line = f.readline()\n",
    "        # print(line)\n",
    "        line.strip()\n",
    "        img_name = line.split(',')[0]\n",
    "        img_label = line.split(',')[1]\n",
    "        img_label = int(img_label)\n",
    "        \n",
    "        # 图片路径\n",
    "        img_name_path = os.path.join(base_path, 'garbage_classify/train_data/{}'.format(img_name))\n",
    "        img_path_list.append(\n",
    "            {\n",
    "                'img_name_path':img_name_path,\n",
    "                'img_label':img_label\n",
    "            }\n",
    "        )\n",
    "\n",
    "\n",
    "        # 图片的名称-标签\n",
    "        img_name2label_dict[img_name] = img_label\n",
    "\n",
    "        # 每一个标签出现的次数\n",
    "        img_label_count = img_label_dict.get(img_label, 0)\n",
    "        if img_label_count:\n",
    "            img_label_dict[img_label] = img_label_count+1\n",
    "        else:\n",
    "            img_label_dict[img_label] = 1\n",
    "\n",
    "\n",
    "    \n",
    "    return img_path_list,img_name2label_dict,img_label_dict\n",
    "\n",
    "img_path_list,img_name2label_dict,img_label_dict= get_image_info()\n",
    "print(img_label_dict)\n"
   ]
  },
  {
   "cell_type": "code",
   "execution_count": 3,
   "metadata": {
    "tags": []
   },
   "outputs": [
    {
     "output_type": "stream",
     "name": "stdout",
     "text": "Help on built-in function sorted in module builtins:\n\nsorted(iterable, /, *, key=None, reverse=False)\n    Return a new list containing all items from the iterable in ascending order.\n    \n    A custom key function can be supplied to customize the sort order, and the\n    reverse flag can be set to request the result in descending order.\n\n"
    }
   ],
   "source": [
    "help(sorted)"
   ]
  },
  {
   "cell_type": "code",
   "execution_count": 4,
   "metadata": {},
   "outputs": [],
   "source": [
    "img_label_dict = dict(sorted(img_label_dict.items()))"
   ]
  },
  {
   "cell_type": "code",
   "execution_count": 5,
   "metadata": {},
   "outputs": [],
   "source": [
    "import json\n",
    "label_dict = dict()\n",
    "json_data_path = r'D:/ai/data/garbage_classify/garbage_classify_rule.json'\n",
    "with open(json_data_path, encoding='utf-8') as f:\n",
    "    label_dict = json.load(f)\n"
   ]
  },
  {
   "cell_type": "markdown",
   "metadata": {},
   "source": [
    "## 数据不同类别分布\n",
    "* pyecharts"
   ]
  },
  {
   "cell_type": "code",
   "execution_count": 6,
   "metadata": {
    "tags": []
   },
   "outputs": [
    {
     "output_type": "stream",
     "name": "stdout",
     "text": "x= dict_keys([0, 1, 2, 3, 4, 5, 6, 7, 8, 9, 10, 11, 12, 13, 14, 15, 16, 17, 18, 19, 20, 21, 22, 23, 24, 25, 26, 27, 28, 29, 30, 31, 32, 33, 34, 35, 36, 37, 38, 39])\ny= dict_values([242, 370, 279, 85, 387, 289, 395, 362, 380, 389, 387, 736, 331, 409, 357, 419, 352, 309, 362, 312, 226, 657, 375, 309, 318, 550, 351, 536, 382, 416, 321, 446, 280, 322, 395, 351, 265, 322, 391, 437])\n"
    }
   ],
   "source": [
    "# 首先构造数\n",
    "x = img_label_dict.keys()\n",
    "y = img_label_dict.values()\n",
    "print(\"x=\",x)\n",
    "print(\"y=\",y)\n",
    "# 借助python 列表推导式来修改x\n",
    "x = ['{}-{}'.format(label_idx,label_dict[str(label_idx)]) for label_idx in img_label_dict.keys()]"
   ]
  },
  {
   "cell_type": "code",
   "execution_count": 7,
   "metadata": {
    "tags": []
   },
   "outputs": [
    {
     "output_type": "stream",
     "name": "stderr",
     "text": "C:\\Users\\lzn\\AppData\\Local\\Continuum\\anaconda3\\lib\\site-packages\\pyecharts\\charts\\chart.py:14: PendingDeprecationWarning: pyecharts 所有图表类型将在 v1.9.0 版本开始强制使用 ChartItem 进行数据项配置 :)\n  super().__init__(init_opts=init_opts)\n"
    },
    {
     "output_type": "execute_result",
     "data": {
      "text/plain": "<pyecharts.render.display.HTML at 0x28ebf132400>",
      "text/html": "\n<script>\n    require.config({\n        paths: {\n            'echarts':'https://assets.pyecharts.org/assets/echarts.min'\n        }\n    });\n</script>\n\n        <div id=\"78281ed59be442c79eb4687d02f75767\" style=\"width:1100px; height:500px;\"></div>\n\n<script>\n        require(['echarts'], function(echarts) {\n                var chart_78281ed59be442c79eb4687d02f75767 = echarts.init(\n                    document.getElementById('78281ed59be442c79eb4687d02f75767'), 'white', {renderer: 'canvas'});\n                var option_78281ed59be442c79eb4687d02f75767 = {\n    \"animation\": true,\n    \"animationThreshold\": 2000,\n    \"animationDuration\": 1000,\n    \"animationEasing\": \"cubicOut\",\n    \"animationDelay\": 0,\n    \"animationDurationUpdate\": 300,\n    \"animationEasingUpdate\": \"cubicOut\",\n    \"animationDelayUpdate\": 0,\n    \"color\": [\n        \"#c23531\",\n        \"#2f4554\",\n        \"#61a0a8\",\n        \"#d48265\",\n        \"#749f83\",\n        \"#ca8622\",\n        \"#bda29a\",\n        \"#6e7074\",\n        \"#546570\",\n        \"#c4ccd3\",\n        \"#f05b72\",\n        \"#ef5b9c\",\n        \"#f47920\",\n        \"#905a3d\",\n        \"#fab27b\",\n        \"#2a5caa\",\n        \"#444693\",\n        \"#726930\",\n        \"#b2d235\",\n        \"#6d8346\",\n        \"#ac6767\",\n        \"#1d953f\",\n        \"#6950a1\",\n        \"#918597\"\n    ],\n    \"series\": [\n        {\n            \"type\": \"bar\",\n            \"legendHoverLink\": true,\n            \"data\": [\n                242,\n                370,\n                279,\n                85,\n                387,\n                289,\n                395,\n                362,\n                380,\n                389,\n                387,\n                736,\n                331,\n                409,\n                357,\n                419,\n                352,\n                309,\n                362,\n                312,\n                226,\n                657,\n                375,\n                309,\n                318,\n                550,\n                351,\n                536,\n                382,\n                416,\n                321,\n                446,\n                280,\n                322,\n                395,\n                351,\n                265,\n                322,\n                391,\n                437\n            ],\n            \"showBackground\": false,\n            \"barMinHeight\": 0,\n            \"barCategoryGap\": \"20%\",\n            \"barGap\": \"30%\",\n            \"large\": false,\n            \"largeThreshold\": 400,\n            \"seriesLayoutBy\": \"column\",\n            \"datasetIndex\": 0,\n            \"clip\": true,\n            \"zlevel\": 0,\n            \"z\": 2,\n            \"label\": {\n                \"show\": true,\n                \"position\": \"top\",\n                \"margin\": 8\n            }\n        }\n    ],\n    \"legend\": [\n        {\n            \"data\": [\n                \"\"\n            ],\n            \"selected\": {\n                \"\": true\n            },\n            \"show\": true,\n            \"padding\": 5,\n            \"itemGap\": 10,\n            \"itemWidth\": 25,\n            \"itemHeight\": 14\n        }\n    ],\n    \"tooltip\": {\n        \"show\": true,\n        \"trigger\": \"item\",\n        \"triggerOn\": \"mousemove|click\",\n        \"axisPointer\": {\n            \"type\": \"line\"\n        },\n        \"showContent\": true,\n        \"alwaysShowContent\": false,\n        \"showDelay\": 0,\n        \"hideDelay\": 100,\n        \"textStyle\": {\n            \"fontSize\": 14\n        },\n        \"borderWidth\": 0,\n        \"padding\": 5\n    },\n    \"xAxis\": [\n        {\n            \"show\": true,\n            \"scale\": false,\n            \"nameLocation\": \"end\",\n            \"nameGap\": 15,\n            \"gridIndex\": 0,\n            \"axisLabel\": {\n                \"show\": true,\n                \"position\": \"top\",\n                \"rotate\": 20,\n                \"margin\": 8\n            },\n            \"inverse\": false,\n            \"offset\": 0,\n            \"splitNumber\": 5,\n            \"minInterval\": 0,\n            \"splitLine\": {\n                \"show\": false,\n                \"lineStyle\": {\n                    \"show\": true,\n                    \"width\": 1,\n                    \"opacity\": 1,\n                    \"curveness\": 0,\n                    \"type\": \"solid\"\n                }\n            },\n            \"data\": [\n                \"0-\\u5176\\u4ed6\\u5783\\u573e/\\u4e00\\u6b21\\u6027\\u5feb\\u9910\\u76d2\",\n                \"1-\\u5176\\u4ed6\\u5783\\u573e/\\u6c61\\u635f\\u5851\\u6599\",\n                \"2-\\u5176\\u4ed6\\u5783\\u573e/\\u70df\\u8482\",\n                \"3-\\u5176\\u4ed6\\u5783\\u573e/\\u7259\\u7b7e\",\n                \"4-\\u5176\\u4ed6\\u5783\\u573e/\\u7834\\u788e\\u82b1\\u76c6\\u53ca\\u789f\\u7897\",\n                \"5-\\u5176\\u4ed6\\u5783\\u573e/\\u7af9\\u7b77\",\n                \"6-\\u53a8\\u4f59\\u5783\\u573e/\\u5269\\u996d\\u5269\\u83dc\",\n                \"7-\\u53a8\\u4f59\\u5783\\u573e/\\u5927\\u9aa8\\u5934\",\n                \"8-\\u53a8\\u4f59\\u5783\\u573e/\\u6c34\\u679c\\u679c\\u76ae\",\n                \"9-\\u53a8\\u4f59\\u5783\\u573e/\\u6c34\\u679c\\u679c\\u8089\",\n                \"10-\\u53a8\\u4f59\\u5783\\u573e/\\u8336\\u53f6\\u6e23\",\n                \"11-\\u53a8\\u4f59\\u5783\\u573e/\\u83dc\\u53f6\\u83dc\\u6839\",\n                \"12-\\u53a8\\u4f59\\u5783\\u573e/\\u86cb\\u58f3\",\n                \"13-\\u53a8\\u4f59\\u5783\\u573e/\\u9c7c\\u9aa8\",\n                \"14-\\u53ef\\u56de\\u6536\\u7269/\\u5145\\u7535\\u5b9d\",\n                \"15-\\u53ef\\u56de\\u6536\\u7269/\\u5305\",\n                \"16-\\u53ef\\u56de\\u6536\\u7269/\\u5316\\u5986\\u54c1\\u74f6\",\n                \"17-\\u53ef\\u56de\\u6536\\u7269/\\u5851\\u6599\\u73a9\\u5177\",\n                \"18-\\u53ef\\u56de\\u6536\\u7269/\\u5851\\u6599\\u7897\\u76c6\",\n                \"19-\\u53ef\\u56de\\u6536\\u7269/\\u5851\\u6599\\u8863\\u67b6\",\n                \"20-\\u53ef\\u56de\\u6536\\u7269/\\u5feb\\u9012\\u7eb8\\u888b\",\n                \"21-\\u53ef\\u56de\\u6536\\u7269/\\u63d2\\u5934\\u7535\\u7ebf\",\n                \"22-\\u53ef\\u56de\\u6536\\u7269/\\u65e7\\u8863\\u670d\",\n                \"23-\\u53ef\\u56de\\u6536\\u7269/\\u6613\\u62c9\\u7f50\",\n                \"24-\\u53ef\\u56de\\u6536\\u7269/\\u6795\\u5934\",\n                \"25-\\u53ef\\u56de\\u6536\\u7269/\\u6bdb\\u7ed2\\u73a9\\u5177\",\n                \"26-\\u53ef\\u56de\\u6536\\u7269/\\u6d17\\u53d1\\u6c34\\u74f6\",\n                \"27-\\u53ef\\u56de\\u6536\\u7269/\\u73bb\\u7483\\u676f\",\n                \"28-\\u53ef\\u56de\\u6536\\u7269/\\u76ae\\u978b\",\n                \"29-\\u53ef\\u56de\\u6536\\u7269/\\u7827\\u677f\",\n                \"30-\\u53ef\\u56de\\u6536\\u7269/\\u7eb8\\u677f\\u7bb1\",\n                \"31-\\u53ef\\u56de\\u6536\\u7269/\\u8c03\\u6599\\u74f6\",\n                \"32-\\u53ef\\u56de\\u6536\\u7269/\\u9152\\u74f6\",\n                \"33-\\u53ef\\u56de\\u6536\\u7269/\\u91d1\\u5c5e\\u98df\\u54c1\\u7f50\",\n                \"34-\\u53ef\\u56de\\u6536\\u7269/\\u9505\",\n                \"35-\\u53ef\\u56de\\u6536\\u7269/\\u98df\\u7528\\u6cb9\\u6876\",\n                \"36-\\u53ef\\u56de\\u6536\\u7269/\\u996e\\u6599\\u74f6\",\n                \"37-\\u6709\\u5bb3\\u5783\\u573e/\\u5e72\\u7535\\u6c60\",\n                \"38-\\u6709\\u5bb3\\u5783\\u573e/\\u8f6f\\u818f\",\n                \"39-\\u6709\\u5bb3\\u5783\\u573e/\\u8fc7\\u671f\\u836f\\u7269\"\n            ]\n        }\n    ],\n    \"yAxis\": [\n        {\n            \"show\": true,\n            \"scale\": false,\n            \"nameLocation\": \"end\",\n            \"nameGap\": 15,\n            \"gridIndex\": 0,\n            \"inverse\": false,\n            \"offset\": 0,\n            \"splitNumber\": 5,\n            \"minInterval\": 0,\n            \"splitLine\": {\n                \"show\": false,\n                \"lineStyle\": {\n                    \"show\": true,\n                    \"width\": 1,\n                    \"opacity\": 1,\n                    \"curveness\": 0,\n                    \"type\": \"solid\"\n                }\n            }\n        }\n    ],\n    \"title\": [\n        {\n            \"text\": \"\\u5783\\u573e\\u5206\\u7c7b \\u4e0d\\u540c\\u7c7b\\u522b\\u6570\\u636e\\u5206\\u5e03\",\n            \"padding\": 5,\n            \"itemGap\": 10\n        }\n    ]\n};\n                chart_78281ed59be442c79eb4687d02f75767.setOption(option_78281ed59be442c79eb4687d02f75767);\n        });\n    </script>\n"
     },
     "metadata": {},
     "execution_count": 7
    }
   ],
   "source": [
    "# 通过pyecharts来进行绘制图表\n",
    "from pyecharts import options as opts \n",
    "from pyecharts.charts import Bar\n",
    "# 构建pyecharts需要的数据\n",
    "x = list(x)\n",
    "y = list(y)\n",
    "# 创建pyecharts的Bar实例对象\n",
    "bar = Bar(init_opts=opts.InitOpts(width='1100px', height='500px'))\n",
    "# 填充数据\n",
    "bar.add_xaxis(xaxis_data=x)\n",
    "bar.add_yaxis(series_name='', y_axis=y)\n",
    "# 设置一些全局的参数\n",
    "bar.set_global_opts(\n",
    "    # 给图标设置标题\n",
    "    title_opts=opts.TitleOpts(title=\"垃圾分类 不同类别数据分布\"), \n",
    "    # 使得x轴数据倾斜\n",
    "    xaxis_opts=opts.AxisOpts(axislabel_opts=opts.LabelOpts(rotate=20)))\n",
    "\n",
    "# 展示我们的图表\n",
    "bar.render_notebook()"
   ]
  },
  {
   "cell_type": "markdown",
   "metadata": {},
   "source": [
    "## 数据宽高比统计分析\n"
   ]
  },
  {
   "cell_type": "code",
   "execution_count": 8,
   "metadata": {
    "tags": []
   },
   "outputs": [
    {
     "output_type": "stream",
     "name": "stdout",
     "text": "../../data/garbage_classify/train_data\n../../data/garbage_classify/train_data\\*.jpg\n  0%|          | 0/14802 [00:00<?, ?it/s]************************************************************\n100%|██████████| 14802/14802 [00:01<00:00, 10961.29it/s]\n"
    },
    {
     "output_type": "execute_result",
     "data": {
      "text/plain": "[[1, 800, 575, 1.39, 0], [10, 750, 690, 1.09, 0], [100, 688, 357, 1.93, 0]]"
     },
     "metadata": {},
     "execution_count": 8
    }
   ],
   "source": [
    "from glob import glob \n",
    "import os \n",
    "from PIL import Image\n",
    "from tqdm import tqdm\n",
    "base_path = r'../../data/'\n",
    "data_path = os.path.join(base_path, 'garbage_classify/train_data')\n",
    "print(data_path)\n",
    "data_path_jpg = os.path.join(data_path, '*.jpg')\n",
    "print(data_path_jpg)\n",
    "\n",
    "data_list = []\n",
    "\n",
    "data_path_list = glob(data_path_jpg)\n",
    "# print(data_path_list[:3]\n",
    "print(\"*\"*60)\n",
    "\n",
    "for file_path in tqdm(data_path_list):\n",
    "    # print(file_path)\n",
    "    img = Image.open(file_path)\n",
    "    width = img.size[0]\n",
    "    height = img.size[1]\n",
    "\n",
    "    ratio = float(\"{:.2f}\".format(width/height))\n",
    "\n",
    "    img_name = file_path.split('\\\\')[-1]\n",
    "    img_id = img_name.split('.')[0].split('_')[-1]\n",
    "    img_label = img_name2label_dict.get(img_name, 0)\n",
    "    data_list.append([int(img_id), width, height , ratio , int(img_label)])\n",
    "    \n",
    "data_list[:3]"
   ]
  },
  {
   "cell_type": "code",
   "execution_count": 9,
   "metadata": {
    "tags": []
   },
   "outputs": [
    {
     "output_type": "stream",
     "name": "stdout",
     "text": "[1.39, 1.09, 1.93, 0.99, 1.11, 0.75, 1.33, 1.69, 0.89, 1.21, 1.17, 1.5, 1.9, 0.56, 1.33, 0.56, 0.75, 1.0, 0.75, 1.33, 1.28, 1.69, 0.74, 1.33, 1.33, 1.6, 1.48, 0.91, 1.53, 1.33, 0.86, 1.2, 1.05, 1.39]\n"
    }
   ],
   "source": [
    "ratio_list = [ratio[3] for ratio in data_list]\n",
    "print(ratio_list[:34])"
   ]
  },
  {
   "cell_type": "markdown",
   "metadata": {},
   "source": [
    "# 首先分析单变量的数据分析，用直方图来完成\n",
    "# python seaborn 可视化工具库来进行展示\n"
   ]
  },
  {
   "cell_type": "code",
   "execution_count": 10,
   "metadata": {
    "tags": []
   },
   "outputs": [
    {
     "output_type": "stream",
     "name": "stderr",
     "text": "C:\\Users\\lzn\\AppData\\Local\\Continuum\\anaconda3\\lib\\site-packages\\matplotlib\\colors.py:53: DeprecationWarning: Using or importing the ABCs from 'collections' instead of from 'collections.abc' is deprecated, and in 3.8 it will stop working\n  from collections import Sized\nC:\\Users\\lzn\\AppData\\Local\\Continuum\\anaconda3\\lib\\importlib\\_bootstrap.py:219: ImportWarning: can't resolve package from __spec__ or __package__, falling back on __name__ and __path__\n  return f(*args, **kwds)\nC:\\Users\\lzn\\AppData\\Local\\Continuum\\anaconda3\\lib\\importlib\\_bootstrap.py:219: ImportWarning: can't resolve package from __spec__ or __package__, falling back on __name__ and __path__\n  return f(*args, **kwds)\nC:\\Users\\lzn\\AppData\\Local\\Continuum\\anaconda3\\lib\\site-packages\\matplotlib\\cbook\\__init__.py:2349: DeprecationWarning: Using or importing the ABCs from 'collections' instead of from 'collections.abc' is deprecated, and in 3.8 it will stop working\n  if isinstance(obj, collections.Iterator):\nC:\\Users\\lzn\\AppData\\Local\\Continuum\\anaconda3\\lib\\site-packages\\matplotlib\\cbook\\__init__.py:2366: DeprecationWarning: Using or importing the ABCs from 'collections' instead of from 'collections.abc' is deprecated, and in 3.8 it will stop working\n  return list(data) if isinstance(data, collections.MappingView) else data\nC:\\Users\\lzn\\AppData\\Local\\Continuum\\anaconda3\\lib\\site-packages\\scipy\\stats\\stats.py:1713: FutureWarning: Using a non-tuple sequence for multidimensional indexing is deprecated; use `arr[tuple(seq)]` instead of `arr[seq]`. In the future this will be interpreted as an array index, `arr[np.array(seq)]`, which will result either in an error or a different result.\n  return np.add.reduce(sorted[indexer] * weights, axis=axis) / sumval\n"
    }
   ],
   "source": [
    "# 导入可视化库\n",
    "import seaborn as sns\n",
    "# 导入计算相关库\n",
    "import numpy as np \n",
    "\n",
    "sns.set()\n",
    "np.random.seed(0)\n",
    "\n",
    "# seaborn 直方图\n",
    "ax = sns.distplot(ratio_list)"
   ]
  },
  {
   "cell_type": "markdown",
   "metadata": {},
   "source": [
    "接下来 获取(0,2)数据， 然后查看下效果"
   ]
  },
  {
   "cell_type": "code",
   "execution_count": 11,
   "metadata": {
    "tags": []
   },
   "outputs": [
    {
     "output_type": "stream",
     "name": "stdout",
     "text": "Help on class filter in module builtins:\n\nclass filter(object)\n |  filter(function or None, iterable) --> filter object\n |  \n |  Return an iterator yielding those items of iterable for which function(item)\n |  is true. If function is None, return the items that are true.\n |  \n |  Methods defined here:\n |  \n |  __getattribute__(self, name, /)\n |      Return getattr(self, name).\n |  \n |  __iter__(self, /)\n |      Implement iter(self).\n |  \n |  __next__(self, /)\n |      Implement next(self).\n |  \n |  __reduce__(...)\n |      Return state information for pickling.\n |  \n |  ----------------------------------------------------------------------\n |  Static methods defined here:\n |  \n |  __new__(*args, **kwargs) from builtins.type\n |      Create and return a new object.  See help(type) for accurate signature.\n\n"
    }
   ],
   "source": [
    "# 需要过滤数据\n",
    "help(filter)"
   ]
  },
  {
   "cell_type": "code",
   "execution_count": 12,
   "metadata": {
    "tags": []
   },
   "outputs": [],
   "source": [
    "ratio_list = filter(lambda x:x>0.5 and x<=2,ratio_list)"
   ]
  },
  {
   "cell_type": "code",
   "execution_count": 13,
   "metadata": {
    "tags": []
   },
   "outputs": [
    {
     "output_type": "stream",
     "name": "stderr",
     "text": "C:\\Users\\lzn\\AppData\\Local\\Continuum\\anaconda3\\lib\\site-packages\\scipy\\stats\\stats.py:1713: FutureWarning: Using a non-tuple sequence for multidimensional indexing is deprecated; use `arr[tuple(seq)]` instead of `arr[seq]`. In the future this will be interpreted as an array index, `arr[np.array(seq)]`, which will result either in an error or a different result.\n  return np.add.reduce(sorted[indexer] * weights, axis=axis) / sumval\n14192\n"
    },
    {
     "output_type": "display_data",
     "data": {
      "text/plain": "<Figure size 432x288 with 1 Axes>",
      "image/svg+xml": "<?xml version=\"1.0\" encoding=\"utf-8\" standalone=\"no\"?>\r\n<!DOCTYPE svg PUBLIC \"-//W3C//DTD SVG 1.1//EN\"\r\n  \"http://www.w3.org/Graphics/SVG/1.1/DTD/svg11.dtd\">\r\n<!-- Created with matplotlib (http://matplotlib.org/) -->\r\n<svg height=\"257.399844pt\" version=\"1.1\" viewBox=\"0 0 382.473415 257.399844\" width=\"382.473415pt\" xmlns=\"http://www.w3.org/2000/svg\" xmlns:xlink=\"http://www.w3.org/1999/xlink\">\r\n <defs>\r\n  <style type=\"text/css\">\r\n*{stroke-linecap:butt;stroke-linejoin:round;}\r\n  </style>\r\n </defs>\r\n <g id=\"figure_1\">\r\n  <g id=\"patch_1\">\r\n   <path d=\"M 0 257.399844 \r\nL 382.473415 257.399844 \r\nL 382.473415 0 \r\nL 0 0 \r\nz\r\n\" style=\"fill:#ffffff;\"/>\r\n  </g>\r\n  <g id=\"axes_1\">\r\n   <g id=\"patch_2\">\r\n    <path d=\"M 31.99 230.64 \r\nL 366.79 230.64 \r\nL 366.79 13.2 \r\nL 31.99 13.2 \r\nz\r\n\" style=\"fill:#eaeaf2;\"/>\r\n   </g>\r\n   <g id=\"matplotlib.axis_1\">\r\n    <g id=\"xtick_1\">\r\n     <g id=\"line2d_1\">\r\n      <path clip-path=\"url(#p587855432d)\" d=\"M 32.550001 230.64 \r\nL 32.550001 13.2 \r\n\" style=\"fill:none;stroke:#ffffff;stroke-linecap:round;\"/>\r\n     </g>\r\n     <g id=\"text_1\">\r\n      <!-- 0.25 -->\r\n      <defs>\r\n       <path d=\"M 4.15625 35.296875 \r\nQ 4.15625 48 6.765625 55.734375 \r\nQ 9.375 63.484375 14.515625 67.671875 \r\nQ 19.671875 71.875 27.484375 71.875 \r\nQ 33.25 71.875 37.59375 69.546875 \r\nQ 41.9375 67.234375 44.765625 62.859375 \r\nQ 47.609375 58.5 49.21875 52.21875 \r\nQ 50.828125 45.953125 50.828125 35.296875 \r\nQ 50.828125 22.703125 48.234375 14.96875 \r\nQ 45.65625 7.234375 40.5 3 \r\nQ 35.359375 -1.21875 27.484375 -1.21875 \r\nQ 17.140625 -1.21875 11.234375 6.203125 \r\nQ 4.15625 15.140625 4.15625 35.296875 \r\nz\r\nM 13.1875 35.296875 \r\nQ 13.1875 17.671875 17.3125 11.828125 \r\nQ 21.4375 6 27.484375 6 \r\nQ 33.546875 6 37.671875 11.859375 \r\nQ 41.796875 17.71875 41.796875 35.296875 \r\nQ 41.796875 52.984375 37.671875 58.78125 \r\nQ 33.546875 64.59375 27.390625 64.59375 \r\nQ 21.34375 64.59375 17.71875 59.46875 \r\nQ 13.1875 52.9375 13.1875 35.296875 \r\nz\r\n\" id=\"ArialMT-30\"/>\r\n       <path d=\"M 9.078125 0 \r\nL 9.078125 10.015625 \r\nL 19.09375 10.015625 \r\nL 19.09375 0 \r\nz\r\n\" id=\"ArialMT-2e\"/>\r\n       <path d=\"M 50.34375 8.453125 \r\nL 50.34375 0 \r\nL 3.03125 0 \r\nQ 2.9375 3.171875 4.046875 6.109375 \r\nQ 5.859375 10.9375 9.828125 15.625 \r\nQ 13.8125 20.3125 21.34375 26.46875 \r\nQ 33.015625 36.03125 37.109375 41.625 \r\nQ 41.21875 47.21875 41.21875 52.203125 \r\nQ 41.21875 57.421875 37.46875 61 \r\nQ 33.734375 64.59375 27.734375 64.59375 \r\nQ 21.390625 64.59375 17.578125 60.78125 \r\nQ 13.765625 56.984375 13.71875 50.25 \r\nL 4.6875 51.171875 \r\nQ 5.609375 61.28125 11.65625 66.578125 \r\nQ 17.71875 71.875 27.9375 71.875 \r\nQ 38.234375 71.875 44.234375 66.15625 \r\nQ 50.25 60.453125 50.25 52 \r\nQ 50.25 47.703125 48.484375 43.546875 \r\nQ 46.734375 39.40625 42.65625 34.8125 \r\nQ 38.578125 30.21875 29.109375 22.21875 \r\nQ 21.1875 15.578125 18.9375 13.203125 \r\nQ 16.703125 10.84375 15.234375 8.453125 \r\nz\r\n\" id=\"ArialMT-32\"/>\r\n       <path d=\"M 4.15625 18.75 \r\nL 13.375 19.53125 \r\nQ 14.40625 12.796875 18.140625 9.390625 \r\nQ 21.875 6 27.15625 6 \r\nQ 33.5 6 37.890625 10.78125 \r\nQ 42.28125 15.578125 42.28125 23.484375 \r\nQ 42.28125 31 38.0625 35.34375 \r\nQ 33.84375 39.703125 27 39.703125 \r\nQ 22.75 39.703125 19.328125 37.765625 \r\nQ 15.921875 35.84375 13.96875 32.765625 \r\nL 5.71875 33.84375 \r\nL 12.640625 70.609375 \r\nL 48.25 70.609375 \r\nL 48.25 62.203125 \r\nL 19.671875 62.203125 \r\nL 15.828125 42.96875 \r\nQ 22.265625 47.46875 29.34375 47.46875 \r\nQ 38.71875 47.46875 45.15625 40.96875 \r\nQ 51.609375 34.46875 51.609375 24.265625 \r\nQ 51.609375 14.546875 45.953125 7.46875 \r\nQ 39.0625 -1.21875 27.15625 -1.21875 \r\nQ 17.390625 -1.21875 11.203125 4.25 \r\nQ 5.03125 9.71875 4.15625 18.75 \r\nz\r\n\" id=\"ArialMT-35\"/>\r\n      </defs>\r\n      <g style=\"fill:#262626;\" transform=\"translate(21.846485 248.013594)scale(0.11 -0.11)\">\r\n       <use xlink:href=\"#ArialMT-30\"/>\r\n       <use x=\"55.615234\" xlink:href=\"#ArialMT-2e\"/>\r\n       <use x=\"83.398438\" xlink:href=\"#ArialMT-32\"/>\r\n       <use x=\"139.013672\" xlink:href=\"#ArialMT-35\"/>\r\n      </g>\r\n     </g>\r\n    </g>\r\n    <g id=\"xtick_2\">\r\n     <g id=\"line2d_2\">\r\n      <path clip-path=\"url(#p587855432d)\" d=\"M 74.052488 230.64 \r\nL 74.052488 13.2 \r\n\" style=\"fill:none;stroke:#ffffff;stroke-linecap:round;\"/>\r\n     </g>\r\n     <g id=\"text_2\">\r\n      <!-- 0.50 -->\r\n      <g style=\"fill:#262626;\" transform=\"translate(63.348973 248.013594)scale(0.11 -0.11)\">\r\n       <use xlink:href=\"#ArialMT-30\"/>\r\n       <use x=\"55.615234\" xlink:href=\"#ArialMT-2e\"/>\r\n       <use x=\"83.398438\" xlink:href=\"#ArialMT-35\"/>\r\n       <use x=\"139.013672\" xlink:href=\"#ArialMT-30\"/>\r\n      </g>\r\n     </g>\r\n    </g>\r\n    <g id=\"xtick_3\">\r\n     <g id=\"line2d_3\">\r\n      <path clip-path=\"url(#p587855432d)\" d=\"M 115.554976 230.64 \r\nL 115.554976 13.2 \r\n\" style=\"fill:none;stroke:#ffffff;stroke-linecap:round;\"/>\r\n     </g>\r\n     <g id=\"text_3\">\r\n      <!-- 0.75 -->\r\n      <defs>\r\n       <path d=\"M 4.734375 62.203125 \r\nL 4.734375 70.65625 \r\nL 51.078125 70.65625 \r\nL 51.078125 63.8125 \r\nQ 44.234375 56.546875 37.515625 44.484375 \r\nQ 30.8125 32.421875 27.15625 19.671875 \r\nQ 24.515625 10.6875 23.78125 0 \r\nL 14.75 0 \r\nQ 14.890625 8.453125 18.0625 20.40625 \r\nQ 21.234375 32.375 27.171875 43.484375 \r\nQ 33.109375 54.59375 39.796875 62.203125 \r\nz\r\n\" id=\"ArialMT-37\"/>\r\n      </defs>\r\n      <g style=\"fill:#262626;\" transform=\"translate(104.85146 248.013594)scale(0.11 -0.11)\">\r\n       <use xlink:href=\"#ArialMT-30\"/>\r\n       <use x=\"55.615234\" xlink:href=\"#ArialMT-2e\"/>\r\n       <use x=\"83.398438\" xlink:href=\"#ArialMT-37\"/>\r\n       <use x=\"139.013672\" xlink:href=\"#ArialMT-35\"/>\r\n      </g>\r\n     </g>\r\n    </g>\r\n    <g id=\"xtick_4\">\r\n     <g id=\"line2d_4\">\r\n      <path clip-path=\"url(#p587855432d)\" d=\"M 157.057463 230.64 \r\nL 157.057463 13.2 \r\n\" style=\"fill:none;stroke:#ffffff;stroke-linecap:round;\"/>\r\n     </g>\r\n     <g id=\"text_4\">\r\n      <!-- 1.00 -->\r\n      <defs>\r\n       <path d=\"M 37.25 0 \r\nL 28.46875 0 \r\nL 28.46875 56 \r\nQ 25.296875 52.984375 20.140625 49.953125 \r\nQ 14.984375 46.921875 10.890625 45.40625 \r\nL 10.890625 53.90625 \r\nQ 18.265625 57.375 23.78125 62.296875 \r\nQ 29.296875 67.234375 31.59375 71.875 \r\nL 37.25 71.875 \r\nz\r\n\" id=\"ArialMT-31\"/>\r\n      </defs>\r\n      <g style=\"fill:#262626;\" transform=\"translate(146.353947 248.013594)scale(0.11 -0.11)\">\r\n       <use xlink:href=\"#ArialMT-31\"/>\r\n       <use x=\"55.615234\" xlink:href=\"#ArialMT-2e\"/>\r\n       <use x=\"83.398438\" xlink:href=\"#ArialMT-30\"/>\r\n       <use x=\"139.013672\" xlink:href=\"#ArialMT-30\"/>\r\n      </g>\r\n     </g>\r\n    </g>\r\n    <g id=\"xtick_5\">\r\n     <g id=\"line2d_5\">\r\n      <path clip-path=\"url(#p587855432d)\" d=\"M 198.55995 230.64 \r\nL 198.55995 13.2 \r\n\" style=\"fill:none;stroke:#ffffff;stroke-linecap:round;\"/>\r\n     </g>\r\n     <g id=\"text_5\">\r\n      <!-- 1.25 -->\r\n      <g style=\"fill:#262626;\" transform=\"translate(187.856435 248.013594)scale(0.11 -0.11)\">\r\n       <use xlink:href=\"#ArialMT-31\"/>\r\n       <use x=\"55.615234\" xlink:href=\"#ArialMT-2e\"/>\r\n       <use x=\"83.398438\" xlink:href=\"#ArialMT-32\"/>\r\n       <use x=\"139.013672\" xlink:href=\"#ArialMT-35\"/>\r\n      </g>\r\n     </g>\r\n    </g>\r\n    <g id=\"xtick_6\">\r\n     <g id=\"line2d_6\">\r\n      <path clip-path=\"url(#p587855432d)\" d=\"M 240.062438 230.64 \r\nL 240.062438 13.2 \r\n\" style=\"fill:none;stroke:#ffffff;stroke-linecap:round;\"/>\r\n     </g>\r\n     <g id=\"text_6\">\r\n      <!-- 1.50 -->\r\n      <g style=\"fill:#262626;\" transform=\"translate(229.358922 248.013594)scale(0.11 -0.11)\">\r\n       <use xlink:href=\"#ArialMT-31\"/>\r\n       <use x=\"55.615234\" xlink:href=\"#ArialMT-2e\"/>\r\n       <use x=\"83.398438\" xlink:href=\"#ArialMT-35\"/>\r\n       <use x=\"139.013672\" xlink:href=\"#ArialMT-30\"/>\r\n      </g>\r\n     </g>\r\n    </g>\r\n    <g id=\"xtick_7\">\r\n     <g id=\"line2d_7\">\r\n      <path clip-path=\"url(#p587855432d)\" d=\"M 281.564925 230.64 \r\nL 281.564925 13.2 \r\n\" style=\"fill:none;stroke:#ffffff;stroke-linecap:round;\"/>\r\n     </g>\r\n     <g id=\"text_7\">\r\n      <!-- 1.75 -->\r\n      <g style=\"fill:#262626;\" transform=\"translate(270.861409 248.013594)scale(0.11 -0.11)\">\r\n       <use xlink:href=\"#ArialMT-31\"/>\r\n       <use x=\"55.615234\" xlink:href=\"#ArialMT-2e\"/>\r\n       <use x=\"83.398438\" xlink:href=\"#ArialMT-37\"/>\r\n       <use x=\"139.013672\" xlink:href=\"#ArialMT-35\"/>\r\n      </g>\r\n     </g>\r\n    </g>\r\n    <g id=\"xtick_8\">\r\n     <g id=\"line2d_8\">\r\n      <path clip-path=\"url(#p587855432d)\" d=\"M 323.067412 230.64 \r\nL 323.067412 13.2 \r\n\" style=\"fill:none;stroke:#ffffff;stroke-linecap:round;\"/>\r\n     </g>\r\n     <g id=\"text_8\">\r\n      <!-- 2.00 -->\r\n      <g style=\"fill:#262626;\" transform=\"translate(312.363897 248.013594)scale(0.11 -0.11)\">\r\n       <use xlink:href=\"#ArialMT-32\"/>\r\n       <use x=\"55.615234\" xlink:href=\"#ArialMT-2e\"/>\r\n       <use x=\"83.398438\" xlink:href=\"#ArialMT-30\"/>\r\n       <use x=\"139.013672\" xlink:href=\"#ArialMT-30\"/>\r\n      </g>\r\n     </g>\r\n    </g>\r\n    <g id=\"xtick_9\">\r\n     <g id=\"line2d_9\">\r\n      <path clip-path=\"url(#p587855432d)\" d=\"M 364.5699 230.64 \r\nL 364.5699 13.2 \r\n\" style=\"fill:none;stroke:#ffffff;stroke-linecap:round;\"/>\r\n     </g>\r\n     <g id=\"text_9\">\r\n      <!-- 2.25 -->\r\n      <g style=\"fill:#262626;\" transform=\"translate(353.866384 248.013594)scale(0.11 -0.11)\">\r\n       <use xlink:href=\"#ArialMT-32\"/>\r\n       <use x=\"55.615234\" xlink:href=\"#ArialMT-2e\"/>\r\n       <use x=\"83.398438\" xlink:href=\"#ArialMT-32\"/>\r\n       <use x=\"139.013672\" xlink:href=\"#ArialMT-35\"/>\r\n      </g>\r\n     </g>\r\n    </g>\r\n   </g>\r\n   <g id=\"matplotlib.axis_2\">\r\n    <g id=\"ytick_1\">\r\n     <g id=\"line2d_10\">\r\n      <path clip-path=\"url(#p587855432d)\" d=\"M 31.99 230.64 \r\nL 366.79 230.64 \r\n\" style=\"fill:none;stroke:#ffffff;stroke-linecap:round;\"/>\r\n     </g>\r\n     <g id=\"text_10\">\r\n      <!-- 0.0 -->\r\n      <g style=\"fill:#262626;\" transform=\"translate(7.2 234.576797)scale(0.11 -0.11)\">\r\n       <use xlink:href=\"#ArialMT-30\"/>\r\n       <use x=\"55.615234\" xlink:href=\"#ArialMT-2e\"/>\r\n       <use x=\"83.398438\" xlink:href=\"#ArialMT-30\"/>\r\n      </g>\r\n     </g>\r\n    </g>\r\n    <g id=\"ytick_2\">\r\n     <g id=\"line2d_11\">\r\n      <path clip-path=\"url(#p587855432d)\" d=\"M 31.99 203.401336 \r\nL 366.79 203.401336 \r\n\" style=\"fill:none;stroke:#ffffff;stroke-linecap:round;\"/>\r\n     </g>\r\n     <g id=\"text_11\">\r\n      <!-- 0.5 -->\r\n      <g style=\"fill:#262626;\" transform=\"translate(7.2 207.338133)scale(0.11 -0.11)\">\r\n       <use xlink:href=\"#ArialMT-30\"/>\r\n       <use x=\"55.615234\" xlink:href=\"#ArialMT-2e\"/>\r\n       <use x=\"83.398438\" xlink:href=\"#ArialMT-35\"/>\r\n      </g>\r\n     </g>\r\n    </g>\r\n    <g id=\"ytick_3\">\r\n     <g id=\"line2d_12\">\r\n      <path clip-path=\"url(#p587855432d)\" d=\"M 31.99 176.162672 \r\nL 366.79 176.162672 \r\n\" style=\"fill:none;stroke:#ffffff;stroke-linecap:round;\"/>\r\n     </g>\r\n     <g id=\"text_12\">\r\n      <!-- 1.0 -->\r\n      <g style=\"fill:#262626;\" transform=\"translate(7.2 180.099469)scale(0.11 -0.11)\">\r\n       <use xlink:href=\"#ArialMT-31\"/>\r\n       <use x=\"55.615234\" xlink:href=\"#ArialMT-2e\"/>\r\n       <use x=\"83.398438\" xlink:href=\"#ArialMT-30\"/>\r\n      </g>\r\n     </g>\r\n    </g>\r\n    <g id=\"ytick_4\">\r\n     <g id=\"line2d_13\">\r\n      <path clip-path=\"url(#p587855432d)\" d=\"M 31.99 148.924008 \r\nL 366.79 148.924008 \r\n\" style=\"fill:none;stroke:#ffffff;stroke-linecap:round;\"/>\r\n     </g>\r\n     <g id=\"text_13\">\r\n      <!-- 1.5 -->\r\n      <g style=\"fill:#262626;\" transform=\"translate(7.2 152.860804)scale(0.11 -0.11)\">\r\n       <use xlink:href=\"#ArialMT-31\"/>\r\n       <use x=\"55.615234\" xlink:href=\"#ArialMT-2e\"/>\r\n       <use x=\"83.398438\" xlink:href=\"#ArialMT-35\"/>\r\n      </g>\r\n     </g>\r\n    </g>\r\n    <g id=\"ytick_5\">\r\n     <g id=\"line2d_14\">\r\n      <path clip-path=\"url(#p587855432d)\" d=\"M 31.99 121.685343 \r\nL 366.79 121.685343 \r\n\" style=\"fill:none;stroke:#ffffff;stroke-linecap:round;\"/>\r\n     </g>\r\n     <g id=\"text_14\">\r\n      <!-- 2.0 -->\r\n      <g style=\"fill:#262626;\" transform=\"translate(7.2 125.62214)scale(0.11 -0.11)\">\r\n       <use xlink:href=\"#ArialMT-32\"/>\r\n       <use x=\"55.615234\" xlink:href=\"#ArialMT-2e\"/>\r\n       <use x=\"83.398438\" xlink:href=\"#ArialMT-30\"/>\r\n      </g>\r\n     </g>\r\n    </g>\r\n    <g id=\"ytick_6\">\r\n     <g id=\"line2d_15\">\r\n      <path clip-path=\"url(#p587855432d)\" d=\"M 31.99 94.446679 \r\nL 366.79 94.446679 \r\n\" style=\"fill:none;stroke:#ffffff;stroke-linecap:round;\"/>\r\n     </g>\r\n     <g id=\"text_15\">\r\n      <!-- 2.5 -->\r\n      <g style=\"fill:#262626;\" transform=\"translate(7.2 98.383476)scale(0.11 -0.11)\">\r\n       <use xlink:href=\"#ArialMT-32\"/>\r\n       <use x=\"55.615234\" xlink:href=\"#ArialMT-2e\"/>\r\n       <use x=\"83.398438\" xlink:href=\"#ArialMT-35\"/>\r\n      </g>\r\n     </g>\r\n    </g>\r\n    <g id=\"ytick_7\">\r\n     <g id=\"line2d_16\">\r\n      <path clip-path=\"url(#p587855432d)\" d=\"M 31.99 67.208015 \r\nL 366.79 67.208015 \r\n\" style=\"fill:none;stroke:#ffffff;stroke-linecap:round;\"/>\r\n     </g>\r\n     <g id=\"text_16\">\r\n      <!-- 3.0 -->\r\n      <defs>\r\n       <path d=\"M 4.203125 18.890625 \r\nL 12.984375 20.0625 \r\nQ 14.5 12.59375 18.140625 9.296875 \r\nQ 21.78125 6 27 6 \r\nQ 33.203125 6 37.46875 10.296875 \r\nQ 41.75 14.59375 41.75 20.953125 \r\nQ 41.75 27 37.796875 30.921875 \r\nQ 33.84375 34.859375 27.734375 34.859375 \r\nQ 25.25 34.859375 21.53125 33.890625 \r\nL 22.515625 41.609375 \r\nQ 23.390625 41.5 23.921875 41.5 \r\nQ 29.546875 41.5 34.03125 44.421875 \r\nQ 38.53125 47.359375 38.53125 53.46875 \r\nQ 38.53125 58.296875 35.25 61.46875 \r\nQ 31.984375 64.65625 26.8125 64.65625 \r\nQ 21.6875 64.65625 18.265625 61.421875 \r\nQ 14.84375 58.203125 13.875 51.765625 \r\nL 5.078125 53.328125 \r\nQ 6.6875 62.15625 12.390625 67.015625 \r\nQ 18.109375 71.875 26.609375 71.875 \r\nQ 32.46875 71.875 37.390625 69.359375 \r\nQ 42.328125 66.84375 44.9375 62.5 \r\nQ 47.5625 58.15625 47.5625 53.265625 \r\nQ 47.5625 48.640625 45.0625 44.828125 \r\nQ 42.578125 41.015625 37.703125 38.765625 \r\nQ 44.046875 37.3125 47.5625 32.6875 \r\nQ 51.078125 28.078125 51.078125 21.140625 \r\nQ 51.078125 11.765625 44.234375 5.25 \r\nQ 37.40625 -1.265625 26.953125 -1.265625 \r\nQ 17.53125 -1.265625 11.296875 4.34375 \r\nQ 5.078125 9.96875 4.203125 18.890625 \r\nz\r\n\" id=\"ArialMT-33\"/>\r\n      </defs>\r\n      <g style=\"fill:#262626;\" transform=\"translate(7.2 71.144812)scale(0.11 -0.11)\">\r\n       <use xlink:href=\"#ArialMT-33\"/>\r\n       <use x=\"55.615234\" xlink:href=\"#ArialMT-2e\"/>\r\n       <use x=\"83.398438\" xlink:href=\"#ArialMT-30\"/>\r\n      </g>\r\n     </g>\r\n    </g>\r\n    <g id=\"ytick_8\">\r\n     <g id=\"line2d_17\">\r\n      <path clip-path=\"url(#p587855432d)\" d=\"M 31.99 39.969351 \r\nL 366.79 39.969351 \r\n\" style=\"fill:none;stroke:#ffffff;stroke-linecap:round;\"/>\r\n     </g>\r\n     <g id=\"text_17\">\r\n      <!-- 3.5 -->\r\n      <g style=\"fill:#262626;\" transform=\"translate(7.2 43.906148)scale(0.11 -0.11)\">\r\n       <use xlink:href=\"#ArialMT-33\"/>\r\n       <use x=\"55.615234\" xlink:href=\"#ArialMT-2e\"/>\r\n       <use x=\"83.398438\" xlink:href=\"#ArialMT-35\"/>\r\n      </g>\r\n     </g>\r\n    </g>\r\n    <g id=\"ytick_9\">\r\n     <g id=\"line2d_18\">\r\n      <path clip-path=\"url(#p587855432d)\" d=\"M 31.99 12.730687 \r\nL 366.79 12.730687 \r\n\" style=\"fill:none;stroke:#ffffff;stroke-linecap:round;\"/>\r\n     </g>\r\n     <g id=\"text_18\">\r\n      <!-- 4.0 -->\r\n      <defs>\r\n       <path d=\"M 32.328125 0 \r\nL 32.328125 17.140625 \r\nL 1.265625 17.140625 \r\nL 1.265625 25.203125 \r\nL 33.9375 71.578125 \r\nL 41.109375 71.578125 \r\nL 41.109375 25.203125 \r\nL 50.78125 25.203125 \r\nL 50.78125 17.140625 \r\nL 41.109375 17.140625 \r\nL 41.109375 0 \r\nz\r\nM 32.328125 25.203125 \r\nL 32.328125 57.46875 \r\nL 9.90625 25.203125 \r\nz\r\n\" id=\"ArialMT-34\"/>\r\n      </defs>\r\n      <g style=\"fill:#262626;\" transform=\"translate(7.2 16.667484)scale(0.11 -0.11)\">\r\n       <use xlink:href=\"#ArialMT-34\"/>\r\n       <use x=\"55.615234\" xlink:href=\"#ArialMT-2e\"/>\r\n       <use x=\"83.398438\" xlink:href=\"#ArialMT-30\"/>\r\n      </g>\r\n     </g>\r\n    </g>\r\n   </g>\r\n   <g id=\"patch_3\">\r\n    <path clip-path=\"url(#p587855432d)\" d=\"M 75.712588 230.64 \r\nL 83.691776 230.64 \r\nL 83.691776 220.497352 \r\nL 75.712588 220.497352 \r\nz\r\n\" style=\"fill:#4c72b0;opacity:0.4;stroke:#ffffff;stroke-linejoin:miter;\"/>\r\n   </g>\r\n   <g id=\"patch_4\">\r\n    <path clip-path=\"url(#p587855432d)\" d=\"M 83.691776 230.64 \r\nL 91.670963 230.64 \r\nL 91.670963 106.851779 \r\nL 83.691776 106.851779 \r\nz\r\n\" style=\"fill:#4c72b0;opacity:0.4;stroke:#ffffff;stroke-linejoin:miter;\"/>\r\n   </g>\r\n   <g id=\"patch_5\">\r\n    <path clip-path=\"url(#p587855432d)\" d=\"M 91.670963 230.64 \r\nL 99.650151 230.64 \r\nL 99.650151 216.743774 \r\nL 91.670963 216.743774 \r\nz\r\n\" style=\"fill:#4c72b0;opacity:0.4;stroke:#ffffff;stroke-linejoin:miter;\"/>\r\n   </g>\r\n   <g id=\"patch_6\">\r\n    <path clip-path=\"url(#p587855432d)\" d=\"M 99.650151 230.64 \r\nL 107.629339 230.64 \r\nL 107.629339 211.153338 \r\nL 99.650151 211.153338 \r\nz\r\n\" style=\"fill:#4c72b0;opacity:0.4;stroke:#ffffff;stroke-linejoin:miter;\"/>\r\n   </g>\r\n   <g id=\"patch_7\">\r\n    <path clip-path=\"url(#p587855432d)\" d=\"M 107.629339 230.64 \r\nL 115.608527 230.64 \r\nL 115.608527 23.554286 \r\nL 107.629339 23.554286 \r\nz\r\n\" style=\"fill:#4c72b0;opacity:0.4;stroke:#ffffff;stroke-linejoin:miter;\"/>\r\n   </g>\r\n   <g id=\"patch_8\">\r\n    <path clip-path=\"url(#p587855432d)\" d=\"M 115.608527 230.64 \r\nL 123.587715 230.64 \r\nL 123.587715 203.246865 \r\nL 115.608527 203.246865 \r\nz\r\n\" style=\"fill:#4c72b0;opacity:0.4;stroke:#ffffff;stroke-linejoin:miter;\"/>\r\n   </g>\r\n   <g id=\"patch_9\">\r\n    <path clip-path=\"url(#p587855432d)\" d=\"M 123.587715 230.64 \r\nL 131.566903 230.64 \r\nL 131.566903 189.829819 \r\nL 123.587715 189.829819 \r\nz\r\n\" style=\"fill:#4c72b0;opacity:0.4;stroke:#ffffff;stroke-linejoin:miter;\"/>\r\n   </g>\r\n   <g id=\"patch_10\">\r\n    <path clip-path=\"url(#p587855432d)\" d=\"M 131.566903 230.64 \r\nL 139.546091 230.64 \r\nL 139.546091 209.955388 \r\nL 131.566903 209.955388 \r\nz\r\n\" style=\"fill:#4c72b0;opacity:0.4;stroke:#ffffff;stroke-linejoin:miter;\"/>\r\n   </g>\r\n   <g id=\"patch_11\">\r\n    <path clip-path=\"url(#p587855432d)\" d=\"M 139.546091 230.64 \r\nL 147.525279 230.64 \r\nL 147.525279 210.434568 \r\nL 139.546091 210.434568 \r\nz\r\n\" style=\"fill:#4c72b0;opacity:0.4;stroke:#ffffff;stroke-linejoin:miter;\"/>\r\n   </g>\r\n   <g id=\"patch_12\">\r\n    <path clip-path=\"url(#p587855432d)\" d=\"M 147.525279 230.64 \r\nL 155.504467 230.64 \r\nL 155.504467 212.191562 \r\nL 147.525279 212.191562 \r\nz\r\n\" style=\"fill:#4c72b0;opacity:0.4;stroke:#ffffff;stroke-linejoin:miter;\"/>\r\n   </g>\r\n   <g id=\"patch_13\">\r\n    <path clip-path=\"url(#p587855432d)\" d=\"M 155.504467 230.64 \r\nL 163.483654 230.64 \r\nL 163.483654 125.939124 \r\nL 155.504467 125.939124 \r\nz\r\n\" style=\"fill:#4c72b0;opacity:0.4;stroke:#ffffff;stroke-linejoin:miter;\"/>\r\n   </g>\r\n   <g id=\"patch_14\">\r\n    <path clip-path=\"url(#p587855432d)\" d=\"M 163.483654 230.64 \r\nL 171.462842 230.64 \r\nL 171.462842 208.59771 \r\nL 163.483654 208.59771 \r\nz\r\n\" style=\"fill:#4c72b0;opacity:0.4;stroke:#ffffff;stroke-linejoin:miter;\"/>\r\n   </g>\r\n   <g id=\"patch_15\">\r\n    <path clip-path=\"url(#p587855432d)\" d=\"M 171.462842 230.64 \r\nL 179.44203 230.64 \r\nL 179.44203 201.090554 \r\nL 171.462842 201.090554 \r\nz\r\n\" style=\"fill:#4c72b0;opacity:0.4;stroke:#ffffff;stroke-linejoin:miter;\"/>\r\n   </g>\r\n   <g id=\"patch_16\">\r\n    <path clip-path=\"url(#p587855432d)\" d=\"M 179.44203 230.64 \r\nL 187.421218 230.64 \r\nL 187.421218 207.39976 \r\nL 179.44203 207.39976 \r\nz\r\n\" style=\"fill:#4c72b0;opacity:0.4;stroke:#ffffff;stroke-linejoin:miter;\"/>\r\n   </g>\r\n   <g id=\"patch_17\">\r\n    <path clip-path=\"url(#p587855432d)\" d=\"M 187.421218 230.64 \r\nL 195.400406 230.64 \r\nL 195.400406 208.757437 \r\nL 187.421218 208.757437 \r\nz\r\n\" style=\"fill:#4c72b0;opacity:0.4;stroke:#ffffff;stroke-linejoin:miter;\"/>\r\n   </g>\r\n   <g id=\"patch_18\">\r\n    <path clip-path=\"url(#p587855432d)\" d=\"M 195.400406 230.64 \r\nL 203.379594 230.64 \r\nL 203.379594 213.149922 \r\nL 195.400406 213.149922 \r\nz\r\n\" style=\"fill:#4c72b0;opacity:0.4;stroke:#ffffff;stroke-linejoin:miter;\"/>\r\n   </g>\r\n   <g id=\"patch_19\">\r\n    <path clip-path=\"url(#p587855432d)\" d=\"M 203.379594 230.64 \r\nL 211.358782 230.64 \r\nL 211.358782 206.840716 \r\nL 203.379594 206.840716 \r\nz\r\n\" style=\"fill:#4c72b0;opacity:0.4;stroke:#ffffff;stroke-linejoin:miter;\"/>\r\n   </g>\r\n   <g id=\"patch_20\">\r\n    <path clip-path=\"url(#p587855432d)\" d=\"M 211.358782 230.64 \r\nL 219.33797 230.64 \r\nL 219.33797 92.396509 \r\nL 211.358782 92.396509 \r\nz\r\n\" style=\"fill:#4c72b0;opacity:0.4;stroke:#ffffff;stroke-linejoin:miter;\"/>\r\n   </g>\r\n   <g id=\"patch_21\">\r\n    <path clip-path=\"url(#p587855432d)\" d=\"M 219.33797 230.64 \r\nL 227.317158 230.64 \r\nL 227.317158 202.288504 \r\nL 219.33797 202.288504 \r\nz\r\n\" style=\"fill:#4c72b0;opacity:0.4;stroke:#ffffff;stroke-linejoin:miter;\"/>\r\n   </g>\r\n   <g id=\"patch_22\">\r\n    <path clip-path=\"url(#p587855432d)\" d=\"M 227.317158 230.64 \r\nL 235.296346 230.64 \r\nL 235.296346 196.139025 \r\nL 227.317158 196.139025 \r\nz\r\n\" style=\"fill:#4c72b0;opacity:0.4;stroke:#ffffff;stroke-linejoin:miter;\"/>\r\n   </g>\r\n   <g id=\"patch_23\">\r\n    <path clip-path=\"url(#p587855432d)\" d=\"M 235.296346 230.64 \r\nL 243.275533 230.64 \r\nL 243.275533 179.926761 \r\nL 235.296346 179.926761 \r\nz\r\n\" style=\"fill:#4c72b0;opacity:0.4;stroke:#ffffff;stroke-linejoin:miter;\"/>\r\n   </g>\r\n   <g id=\"patch_24\">\r\n    <path clip-path=\"url(#p587855432d)\" d=\"M 243.275533 230.64 \r\nL 251.254721 230.64 \r\nL 251.254721 205.323312 \r\nL 243.275533 205.323312 \r\nz\r\n\" style=\"fill:#4c72b0;opacity:0.4;stroke:#ffffff;stroke-linejoin:miter;\"/>\r\n   </g>\r\n   <g id=\"patch_25\">\r\n    <path clip-path=\"url(#p587855432d)\" d=\"M 251.254721 230.64 \r\nL 259.233909 230.64 \r\nL 259.233909 206.601126 \r\nL 251.254721 206.601126 \r\nz\r\n\" style=\"fill:#4c72b0;opacity:0.4;stroke:#ffffff;stroke-linejoin:miter;\"/>\r\n   </g>\r\n   <g id=\"patch_26\">\r\n    <path clip-path=\"url(#p587855432d)\" d=\"M 259.233909 230.64 \r\nL 267.213097 230.64 \r\nL 267.213097 208.677574 \r\nL 259.233909 208.677574 \r\nz\r\n\" style=\"fill:#4c72b0;opacity:0.4;stroke:#ffffff;stroke-linejoin:miter;\"/>\r\n   </g>\r\n   <g id=\"patch_27\">\r\n    <path clip-path=\"url(#p587855432d)\" d=\"M 267.213097 230.64 \r\nL 275.192285 230.64 \r\nL 275.192285 217.302817 \r\nL 267.213097 217.302817 \r\nz\r\n\" style=\"fill:#4c72b0;opacity:0.4;stroke:#ffffff;stroke-linejoin:miter;\"/>\r\n   </g>\r\n   <g id=\"patch_28\">\r\n    <path clip-path=\"url(#p587855432d)\" d=\"M 275.192285 230.64 \r\nL 283.171473 230.64 \r\nL 283.171473 223.691887 \r\nL 275.192285 223.691887 \r\nz\r\n\" style=\"fill:#4c72b0;opacity:0.4;stroke:#ffffff;stroke-linejoin:miter;\"/>\r\n   </g>\r\n   <g id=\"patch_29\">\r\n    <path clip-path=\"url(#p587855432d)\" d=\"M 283.171473 230.64 \r\nL 291.150661 230.64 \r\nL 291.150661 202.448231 \r\nL 283.171473 202.448231 \r\nz\r\n\" style=\"fill:#4c72b0;opacity:0.4;stroke:#ffffff;stroke-linejoin:miter;\"/>\r\n   </g>\r\n   <g id=\"patch_30\">\r\n    <path clip-path=\"url(#p587855432d)\" d=\"M 291.150661 230.64 \r\nL 299.129849 230.64 \r\nL 299.129849 224.410657 \r\nL 291.150661 224.410657 \r\nz\r\n\" style=\"fill:#4c72b0;opacity:0.4;stroke:#ffffff;stroke-linejoin:miter;\"/>\r\n   </g>\r\n   <g id=\"patch_31\">\r\n    <path clip-path=\"url(#p587855432d)\" d=\"M 299.129849 230.64 \r\nL 307.109037 230.64 \r\nL 307.109037 226.566968 \r\nL 299.129849 226.566968 \r\nz\r\n\" style=\"fill:#4c72b0;opacity:0.4;stroke:#ffffff;stroke-linejoin:miter;\"/>\r\n   </g>\r\n   <g id=\"patch_32\">\r\n    <path clip-path=\"url(#p587855432d)\" d=\"M 307.109037 230.64 \r\nL 315.088224 230.64 \r\nL 315.088224 227.685055 \r\nL 307.109037 227.685055 \r\nz\r\n\" style=\"fill:#4c72b0;opacity:0.4;stroke:#ffffff;stroke-linejoin:miter;\"/>\r\n   </g>\r\n   <g id=\"patch_33\">\r\n    <path clip-path=\"url(#p587855432d)\" d=\"M 315.088224 230.64 \r\nL 323.067412 230.64 \r\nL 323.067412 226.726695 \r\nL 315.088224 226.726695 \r\nz\r\n\" style=\"fill:#4c72b0;opacity:0.4;stroke:#ffffff;stroke-linejoin:miter;\"/>\r\n   </g>\r\n   <g id=\"line2d_19\">\r\n    <path clip-path=\"url(#p587855432d)\" d=\"M 47.208182 230.594458 \r\nL 52.00131 230.421782 \r\nL 54.397874 230.17875 \r\nL 56.794438 229.715421 \r\nL 59.191002 228.886705 \r\nL 61.587566 227.49727 \r\nL 63.98413 225.317905 \r\nL 66.380694 222.128259 \r\nL 68.777258 217.787138 \r\nL 71.173822 212.318021 \r\nL 73.570387 205.981799 \r\nL 75.966951 199.299614 \r\nL 78.363515 192.995151 \r\nL 80.760079 187.850918 \r\nL 83.156643 184.509074 \r\nL 85.553207 183.277172 \r\nL 87.949771 184.005667 \r\nL 90.346335 186.081646 \r\nL 92.742899 188.542777 \r\nL 95.139463 190.277752 \r\nL 97.536027 190.261375 \r\nL 99.932591 187.775755 \r\nL 102.329155 182.581828 \r\nL 104.725719 175.013738 \r\nL 109.518848 156.781488 \r\nL 111.915412 148.958364 \r\nL 114.311976 143.863177 \r\nL 116.70854 142.39502 \r\nL 119.105104 144.785815 \r\nL 121.501668 150.576729 \r\nL 123.898232 158.777001 \r\nL 128.69136 177.446004 \r\nL 131.087924 185.724589 \r\nL 133.484488 192.333492 \r\nL 135.881052 196.946889 \r\nL 138.277616 199.479837 \r\nL 140.67418 200.01414 \r\nL 143.070744 198.761154 \r\nL 145.467309 196.064534 \r\nL 147.863873 192.416055 \r\nL 150.260437 188.445116 \r\nL 152.657001 184.853088 \r\nL 155.053565 182.29304 \r\nL 157.450129 181.228953 \r\nL 159.846693 181.82791 \r\nL 162.243257 183.931551 \r\nL 164.639821 187.121242 \r\nL 169.432949 194.600102 \r\nL 171.829513 197.980022 \r\nL 174.226077 200.785841 \r\nL 176.622641 202.972467 \r\nL 179.019205 204.592458 \r\nL 181.41577 205.722782 \r\nL 183.812334 206.405199 \r\nL 186.208898 206.611291 \r\nL 188.605462 206.233376 \r\nL 191.002026 205.099648 \r\nL 193.39859 203.013523 \r\nL 195.795154 199.817408 \r\nL 198.191718 195.474714 \r\nL 200.588282 190.150884 \r\nL 205.38141 178.451042 \r\nL 207.777974 173.490848 \r\nL 210.174538 170.101794 \r\nL 212.571102 168.763612 \r\nL 214.967666 169.574226 \r\nL 217.36423 172.217565 \r\nL 219.760795 176.055068 \r\nL 222.157359 180.307535 \r\nL 224.553923 184.261332 \r\nL 226.950487 187.43076 \r\nL 229.347051 189.633492 \r\nL 231.743615 190.97232 \r\nL 234.140179 191.746744 \r\nL 236.536743 192.332675 \r\nL 238.933307 193.068161 \r\nL 241.329871 194.1731 \r\nL 243.726435 195.716938 \r\nL 246.122999 197.633822 \r\nL 253.312691 204.045065 \r\nL 255.709256 205.953464 \r\nL 258.10582 207.66149 \r\nL 260.502384 209.188674 \r\nL 262.898948 210.563633 \r\nL 265.295512 211.797577 \r\nL 267.692076 212.872929 \r\nL 270.08864 213.750801 \r\nL 272.485204 214.39377 \r\nL 274.881768 214.794433 \r\nL 279.674896 215.103643 \r\nL 282.07146 215.253362 \r\nL 284.468024 215.59028 \r\nL 286.864588 216.221019 \r\nL 289.261152 217.184085 \r\nL 291.657717 218.440371 \r\nL 298.847409 222.828321 \r\nL 301.243973 224.097729 \r\nL 303.640537 225.151957 \r\nL 306.037101 225.985366 \r\nL 308.433665 226.624393 \r\nL 313.226793 227.497975 \r\nL 325.209613 229.032036 \r\nL 332.399306 229.890139 \r\nL 337.192434 230.284512 \r\nL 344.382126 230.562059 \r\nL 351.571818 230.613582 \r\nL 351.571818 230.613582 \r\n\" style=\"fill:none;stroke:#4c72b0;stroke-linecap:round;stroke-width:1.5;\"/>\r\n   </g>\r\n   <g id=\"patch_34\">\r\n    <path d=\"M 31.99 230.64 \r\nL 31.99 13.2 \r\n\" style=\"fill:none;stroke:#ffffff;stroke-linecap:square;stroke-linejoin:miter;stroke-width:1.25;\"/>\r\n   </g>\r\n   <g id=\"patch_35\">\r\n    <path d=\"M 366.79 230.64 \r\nL 366.79 13.2 \r\n\" style=\"fill:none;stroke:#ffffff;stroke-linecap:square;stroke-linejoin:miter;stroke-width:1.25;\"/>\r\n   </g>\r\n   <g id=\"patch_36\">\r\n    <path d=\"M 31.99 230.64 \r\nL 366.79 230.64 \r\n\" style=\"fill:none;stroke:#ffffff;stroke-linecap:square;stroke-linejoin:miter;stroke-width:1.25;\"/>\r\n   </g>\r\n   <g id=\"patch_37\">\r\n    <path d=\"M 31.99 13.2 \r\nL 366.79 13.2 \r\n\" style=\"fill:none;stroke:#ffffff;stroke-linecap:square;stroke-linejoin:miter;stroke-width:1.25;\"/>\r\n   </g>\r\n  </g>\r\n </g>\r\n <defs>\r\n  <clipPath id=\"p587855432d\">\r\n   <rect height=\"217.44\" width=\"334.8\" x=\"31.99\" y=\"13.2\"/>\r\n  </clipPath>\r\n </defs>\r\n</svg>\r\n",
      "image/png": "[encoded data removed]"
     },
     "metadata": {}
    }
   ],
   "source": [
    "ratio_list = list(ratio_list)\n",
    "\n",
    "print(len(ratio_list))\n",
    "\n",
    "# 导入可视化库\n",
    "import seaborn as sns\n",
    "# 导入计算相关库\n",
    "import numpy as np \n",
    "\n",
    "sns.set()\n",
    "np.random.seed(0)\n",
    "\n",
    "# seaborn 直方图\n",
    "ax = sns.distplot(ratio_list)"
   ]
  },
  {
   "cell_type": "markdown",
   "metadata": {},
   "source": [
    "从上面内容，我们可以知道整体数据分布在（0.5，1.5)"
   ]
  },
  {
   "cell_type": "markdown",
   "metadata": {},
   "source": [
    "# 如何切分数据集 - 训练集和验证集"
   ]
  },
  {
   "cell_type": "code",
   "execution_count": 14,
   "metadata": {},
   "outputs": [
    {
     "output_type": "execute_result",
     "data": {
      "text/plain": "[{'img_name_path': '../../data/garbage_classify/train_data/img_1.jpg',\n  'img_label': 0},\n {'img_name_path': '../../data/garbage_classify/train_data/img_10.jpg',\n  'img_label': 0}]"
     },
     "metadata": {},
     "execution_count": 14
    }
   ],
   "source": [
    "# 原始数据\n",
    "img_path_list[:2]"
   ]
  },
  {
   "cell_type": "code",
   "execution_count": 15,
   "metadata": {},
   "outputs": [
    {
     "output_type": "execute_result",
     "data": {
      "text/plain": "14802"
     },
     "metadata": {},
     "execution_count": 15
    }
   ],
   "source": [
    "# 原始数据大小\n",
    "len(img_path_list)"
   ]
  },
  {
   "cell_type": "code",
   "execution_count": 17,
   "metadata": {
    "tags": []
   },
   "outputs": [
    {
     "output_type": "stream",
     "name": "stdout",
     "text": "img_size: 14802\ntrain_size: 11841\n训练集数目: 11841\n验证数目: 2961\n"
    }
   ],
   "source": [
    "# 原始数据进行shuffle\n",
    "import random\n",
    "random.shuffle(img_path_list)\n",
    "\n",
    "# 数据分布 0.8-0.2\n",
    "img_count = len(img_path_list)\n",
    "train_size = int(img_count*0.8)\n",
    "print(\"img_size:\",img_count)\n",
    "print(\"train_size:\",train_size)\n",
    "\n",
    "train_img_list = img_path_list[:train_size]\n",
    "val_img_list = img_path_list[train_size:]\n",
    "\n",
    "print(\"训练集数目:\", len(train_img_list))\n",
    "print(\"验证数目:\", len(val_img_list))"
   ]
  },
  {
   "cell_type": "markdown",
   "metadata": {},
   "source": [
    "## 数据切分后，我们就可以生成训练和验证数据\n",
    "\n",
    "[python文件操作](https://www.cnblogs.com/hushaojun/p/4533241.html)"
   ]
  },
  {
   "cell_type": "code",
   "execution_count": 19,
   "metadata": {},
   "outputs": [],
   "source": [
    "# 创建文件夹\n",
    "base_path = '../../data/'\n",
    "train_path = os.path.join(base_path, 'gc-for-pytorch')\n",
    "if os.path.exists(train_path):\n",
    "    print(\"已经存在目录\")\n",
    "else:\n",
    "    os.mkdir(train_path)\n",
    "\n"
   ]
  },
  {
   "cell_type": "code",
   "execution_count": 23,
   "metadata": {},
   "outputs": [],
   "source": [
    "def mkdirFun(dir_path):\n",
    "    if os.path.exists(dir_path):\n",
    "        pass\n",
    "    else:\n",
    "        os.mkdir(dir_path)"
   ]
  },
  {
   "cell_type": "code",
   "execution_count": 29,
   "metadata": {},
   "outputs": [],
   "source": [
    "# 训练数据的生成\n",
    "import shutil\n",
    "with open(os.path.join(base_path, 'gc-for-pytorch/train.txt'), 'w') as f:\n",
    "    for img_dict in train_img_list:\n",
    "        # 文本格式数据\n",
    "        img_name_path = img_dict['img_name_path']\n",
    "        img_label = img_dict['img_label']\n",
    "        f.write(\"{}\\t{}\\n\".format(img_name_path, img_label))\n",
    "\n",
    "\n",
    "        # 图片-标签目录\n",
    "        garbage_classfiy_dir = os.path.join(base_path, 'gc-for-pytorch/train/{}'.format(img_label))\n",
    "\n",
    "\n",
    "        # 目录创建\n",
    "        if not os.path.exists(garbage_classfiy_dir):\n",
    "            os.makedirs(garbage_classfiy_dir)\n",
    "        \n",
    "        # 图片数据进行拷贝\n",
    "        shutil.copy(img_name_path, garbage_classfiy_dir )\n",
    "\n",
    "# 训练数据的生成\n",
    "with open(os.path.join(base_path, 'gc-for-pytorch/val.txt'), 'w') as f:\n",
    "    for img_dict in val_img_list:\n",
    "        # 文本格式数据\n",
    "        img_name_path = img_dict['img_name_path']\n",
    "        img_label = img_dict['img_label']\n",
    "        f.write(\"{}\\t{}\\n\".format(img_name_path, img_label))\n",
    "\n",
    "        garbage_classfiy_dir = os.path.join(base_path, 'gc-for-pytorch/val/{}'.format(img_label)                                            )\n",
    "        if not os.path.exists(garbage_classfiy_dir):\n",
    "            os.makedirs(garbage_classfiy_dir)\n",
    "        \n",
    "        shutil.copy(img_name_path, garbage_classfiy_dir)"
   ]
  },
  {
   "cell_type": "markdown",
   "metadata": {},
   "source": [
    "## 训练集和验证集的 数据分布可视化 "
   ]
  },
  {
   "cell_type": "markdown",
   "metadata": {},
   "source": [
    "## 目的是统计训练和验证数量 ，然后通过统计图表的方式在一张图展示"
   ]
  },
  {
   "cell_type": "code",
   "execution_count": 44,
   "metadata": {
    "tags": []
   },
   "outputs": [
    {
     "output_type": "stream",
     "name": "stdout",
     "text": "train_path: ../../data/gc-for-pytorch/train.txt\nval_path: ../../data/gc-for-pytorch/val.txt\ntrain_dict: {0: 199, 1: 292, 2: 231, 3: 70, 4: 297, 5: 231, 6: 321, 7: 294, 8: 303, 9: 310, 10: 310, 11: 573, 12: 265, 13: 325, 14: 295, 15: 335, 16: 289, 17: 255, 18: 285, 19: 242, 20: 179, 21: 516, 22: 307, 23: 242, 24: 256, 25: 436, 26: 286, 27: 453, 28: 307, 29: 329, 30: 270, 31: 350, 32: 209, 33: 259, 34: 308, 35: 294, 36: 202, 37: 246, 38: 316, 39: 354}\nval_dict: {0: 43, 1: 78, 2: 48, 3: 15, 4: 90, 5: 58, 6: 74, 7: 68, 8: 77, 9: 79, 10: 77, 11: 163, 12: 66, 13: 84, 14: 62, 15: 84, 16: 63, 17: 54, 18: 77, 19: 70, 20: 47, 21: 141, 22: 68, 23: 67, 24: 62, 25: 114, 26: 65, 27: 83, 28: 75, 29: 87, 30: 51, 31: 96, 32: 71, 33: 63, 34: 87, 35: 57, 36: 63, 37: 76, 38: 75, 39: 83}\nipykernel_launcher:10: ResourceWarning: unclosed file <_io.TextIOWrapper name='../../data/gc-for-pytorch/train.txt' mode='r' encoding='cp936'>\nipykernel_launcher:10: ResourceWarning: unclosed file <_io.TextIOWrapper name='../../data/gc-for-pytorch/val.txt' mode='r' encoding='cp936'>\n"
    }
   ],
   "source": [
    "import codecs\n",
    "# 获取数据内容\n",
    "train_path = os.path.join(base_path, 'gc-for-pytorch/train.txt')\n",
    "val_path = os.path.join(base_path, 'gc-for-pytorch/val.txt')\n",
    "print(\"train_path:\", train_path)\n",
    "print(\"val_path:\", val_path)\n",
    "# 统计label count\n",
    "def get_label_idx_list(data_path):\n",
    "    label_idx_list = []\n",
    "    for line in codecs.open(data_path, 'r'):\n",
    "        line = line.strip()\n",
    "        label_idx = line.split('\\t')[1]\n",
    "        label_idx_list.append(int(label_idx))\n",
    "    return label_idx_list\n",
    "# 可视化操作\n",
    "from collections import Counter\n",
    "train_dict = dict(Counter(get_label_idx_list(train_path)))\n",
    "train_dict = dict(sorted(train_dict.items()))\n",
    "val_dict = dict(Counter(get_label_idx_list(val_path)))\n",
    "val_dict = dict(sorted(val_dict.items()))\n",
    "print(\"train_dict:\", train_dict)\n",
    "print(\"val_dict:\", val_dict)"
   ]
  },
  {
   "cell_type": "code",
   "execution_count": 60,
   "metadata": {
    "tags": []
   },
   "outputs": [
    {
     "output_type": "stream",
     "name": "stderr",
     "text": "C:\\Users\\lzn\\AppData\\Local\\Continuum\\anaconda3\\lib\\site-packages\\pyecharts\\charts\\chart.py:14: PendingDeprecationWarning: pyecharts 所有图表类型将在 v1.9.0 版本开始强制使用 ChartItem 进行数据项配置 :)\n  super().__init__(init_opts=init_opts)\n"
    },
    {
     "output_type": "execute_result",
     "data": {
      "text/plain": "<pyecharts.render.display.HTML at 0x28ec56cb128>",
      "text/html": "\n<script>\n    require.config({\n        paths: {\n            'echarts':'https://assets.pyecharts.org/assets/echarts.min'\n        }\n    });\n</script>\n\n        <div id=\"d0d214ea818f475d84ccf3927a09dcf3\" style=\"width:800px; height:500px;\"></div>\n\n<script>\n        require(['echarts'], function(echarts) {\n                var chart_d0d214ea818f475d84ccf3927a09dcf3 = echarts.init(\n                    document.getElementById('d0d214ea818f475d84ccf3927a09dcf3'), 'white', {renderer: 'canvas'});\n                var option_d0d214ea818f475d84ccf3927a09dcf3 = {\n    \"animation\": true,\n    \"animationThreshold\": 2000,\n    \"animationDuration\": 1000,\n    \"animationEasing\": \"cubicOut\",\n    \"animationDelay\": 0,\n    \"animationDurationUpdate\": 300,\n    \"animationEasingUpdate\": \"cubicOut\",\n    \"animationDelayUpdate\": 0,\n    \"color\": [\n        \"#c23531\",\n        \"#2f4554\",\n        \"#61a0a8\",\n        \"#d48265\",\n        \"#749f83\",\n        \"#ca8622\",\n        \"#bda29a\",\n        \"#6e7074\",\n        \"#546570\",\n        \"#c4ccd3\",\n        \"#f05b72\",\n        \"#ef5b9c\",\n        \"#f47920\",\n        \"#905a3d\",\n        \"#fab27b\",\n        \"#2a5caa\",\n        \"#444693\",\n        \"#726930\",\n        \"#b2d235\",\n        \"#6d8346\",\n        \"#ac6767\",\n        \"#1d953f\",\n        \"#6950a1\",\n        \"#918597\"\n    ],\n    \"series\": [\n        {\n            \"type\": \"bar\",\n            \"name\": \"train\",\n            \"legendHoverLink\": true,\n            \"data\": [\n                199,\n                292,\n                231,\n                70,\n                297,\n                231,\n                321,\n                294,\n                303,\n                310,\n                310,\n                573,\n                265,\n                325,\n                295,\n                335,\n                289,\n                255,\n                285,\n                242,\n                179,\n                516,\n                307,\n                242,\n                256,\n                436,\n                286,\n                453,\n                307,\n                329,\n                270,\n                350,\n                209,\n                259,\n                308,\n                294,\n                202,\n                246,\n                316,\n                354\n            ],\n            \"showBackground\": false,\n            \"barMinHeight\": 0,\n            \"barCategoryGap\": \"20%\",\n            \"barGap\": \"30%\",\n            \"large\": false,\n            \"largeThreshold\": 400,\n            \"seriesLayoutBy\": \"column\",\n            \"datasetIndex\": 0,\n            \"clip\": true,\n            \"zlevel\": 0,\n            \"z\": 2,\n            \"label\": {\n                \"show\": true,\n                \"position\": \"top\",\n                \"margin\": 8\n            }\n        },\n        {\n            \"type\": \"bar\",\n            \"name\": \"val\",\n            \"legendHoverLink\": true,\n            \"data\": [\n                43,\n                78,\n                48,\n                15,\n                90,\n                58,\n                74,\n                68,\n                77,\n                79,\n                77,\n                163,\n                66,\n                84,\n                62,\n                84,\n                63,\n                54,\n                77,\n                70,\n                47,\n                141,\n                68,\n                67,\n                62,\n                114,\n                65,\n                83,\n                75,\n                87,\n                51,\n                96,\n                71,\n                63,\n                87,\n                57,\n                63,\n                76,\n                75,\n                83\n            ],\n            \"showBackground\": false,\n            \"barMinHeight\": 0,\n            \"barCategoryGap\": \"20%\",\n            \"barGap\": \"30%\",\n            \"large\": false,\n            \"largeThreshold\": 400,\n            \"seriesLayoutBy\": \"column\",\n            \"datasetIndex\": 0,\n            \"clip\": true,\n            \"zlevel\": 0,\n            \"z\": 2,\n            \"label\": {\n                \"show\": true,\n                \"position\": \"top\",\n                \"margin\": 8\n            }\n        }\n    ],\n    \"legend\": [\n        {\n            \"data\": [\n                \"train\",\n                \"val\"\n            ],\n            \"selected\": {\n                \"train\": true,\n                \"val\": true\n            },\n            \"show\": true,\n            \"padding\": 5,\n            \"itemGap\": 10,\n            \"itemWidth\": 25,\n            \"itemHeight\": 14\n        }\n    ],\n    \"tooltip\": {\n        \"show\": true,\n        \"trigger\": \"item\",\n        \"triggerOn\": \"mousemove|click\",\n        \"axisPointer\": {\n            \"type\": \"line\"\n        },\n        \"showContent\": true,\n        \"alwaysShowContent\": false,\n        \"showDelay\": 0,\n        \"hideDelay\": 100,\n        \"textStyle\": {\n            \"fontSize\": 14\n        },\n        \"borderWidth\": 0,\n        \"padding\": 5\n    },\n    \"xAxis\": [\n        {\n            \"show\": true,\n            \"scale\": false,\n            \"nameLocation\": \"end\",\n            \"nameGap\": 15,\n            \"gridIndex\": 0,\n            \"axisLabel\": {\n                \"show\": true,\n                \"position\": \"top\",\n                \"rotate\": 20,\n                \"margin\": 8\n            },\n            \"inverse\": false,\n            \"offset\": 0,\n            \"splitNumber\": 5,\n            \"minInterval\": 0,\n            \"splitLine\": {\n                \"show\": false,\n                \"lineStyle\": {\n                    \"show\": true,\n                    \"width\": 1,\n                    \"opacity\": 1,\n                    \"curveness\": 0,\n                    \"type\": \"solid\"\n                }\n            },\n            \"data\": [\n                \"0-\\u5176\\u4ed6\\u5783\\u573e/\\u4e00\\u6b21\\u6027\\u5feb\\u9910\\u76d2\",\n                \"1-\\u5176\\u4ed6\\u5783\\u573e/\\u6c61\\u635f\\u5851\\u6599\",\n                \"2-\\u5176\\u4ed6\\u5783\\u573e/\\u70df\\u8482\",\n                \"3-\\u5176\\u4ed6\\u5783\\u573e/\\u7259\\u7b7e\",\n                \"4-\\u5176\\u4ed6\\u5783\\u573e/\\u7834\\u788e\\u82b1\\u76c6\\u53ca\\u789f\\u7897\",\n                \"5-\\u5176\\u4ed6\\u5783\\u573e/\\u7af9\\u7b77\",\n                \"6-\\u53a8\\u4f59\\u5783\\u573e/\\u5269\\u996d\\u5269\\u83dc\",\n                \"7-\\u53a8\\u4f59\\u5783\\u573e/\\u5927\\u9aa8\\u5934\",\n                \"8-\\u53a8\\u4f59\\u5783\\u573e/\\u6c34\\u679c\\u679c\\u76ae\",\n                \"9-\\u53a8\\u4f59\\u5783\\u573e/\\u6c34\\u679c\\u679c\\u8089\",\n                \"10-\\u53a8\\u4f59\\u5783\\u573e/\\u8336\\u53f6\\u6e23\",\n                \"11-\\u53a8\\u4f59\\u5783\\u573e/\\u83dc\\u53f6\\u83dc\\u6839\",\n                \"12-\\u53a8\\u4f59\\u5783\\u573e/\\u86cb\\u58f3\",\n                \"13-\\u53a8\\u4f59\\u5783\\u573e/\\u9c7c\\u9aa8\",\n                \"14-\\u53ef\\u56de\\u6536\\u7269/\\u5145\\u7535\\u5b9d\",\n                \"15-\\u53ef\\u56de\\u6536\\u7269/\\u5305\",\n                \"16-\\u53ef\\u56de\\u6536\\u7269/\\u5316\\u5986\\u54c1\\u74f6\",\n                \"17-\\u53ef\\u56de\\u6536\\u7269/\\u5851\\u6599\\u73a9\\u5177\",\n                \"18-\\u53ef\\u56de\\u6536\\u7269/\\u5851\\u6599\\u7897\\u76c6\",\n                \"19-\\u53ef\\u56de\\u6536\\u7269/\\u5851\\u6599\\u8863\\u67b6\",\n                \"20-\\u53ef\\u56de\\u6536\\u7269/\\u5feb\\u9012\\u7eb8\\u888b\",\n                \"21-\\u53ef\\u56de\\u6536\\u7269/\\u63d2\\u5934\\u7535\\u7ebf\",\n                \"22-\\u53ef\\u56de\\u6536\\u7269/\\u65e7\\u8863\\u670d\",\n                \"23-\\u53ef\\u56de\\u6536\\u7269/\\u6613\\u62c9\\u7f50\",\n                \"24-\\u53ef\\u56de\\u6536\\u7269/\\u6795\\u5934\",\n                \"25-\\u53ef\\u56de\\u6536\\u7269/\\u6bdb\\u7ed2\\u73a9\\u5177\",\n                \"26-\\u53ef\\u56de\\u6536\\u7269/\\u6d17\\u53d1\\u6c34\\u74f6\",\n                \"27-\\u53ef\\u56de\\u6536\\u7269/\\u73bb\\u7483\\u676f\",\n                \"28-\\u53ef\\u56de\\u6536\\u7269/\\u76ae\\u978b\",\n                \"29-\\u53ef\\u56de\\u6536\\u7269/\\u7827\\u677f\",\n                \"30-\\u53ef\\u56de\\u6536\\u7269/\\u7eb8\\u677f\\u7bb1\",\n                \"31-\\u53ef\\u56de\\u6536\\u7269/\\u8c03\\u6599\\u74f6\",\n                \"32-\\u53ef\\u56de\\u6536\\u7269/\\u9152\\u74f6\",\n                \"33-\\u53ef\\u56de\\u6536\\u7269/\\u91d1\\u5c5e\\u98df\\u54c1\\u7f50\",\n                \"34-\\u53ef\\u56de\\u6536\\u7269/\\u9505\",\n                \"35-\\u53ef\\u56de\\u6536\\u7269/\\u98df\\u7528\\u6cb9\\u6876\",\n                \"36-\\u53ef\\u56de\\u6536\\u7269/\\u996e\\u6599\\u74f6\",\n                \"37-\\u6709\\u5bb3\\u5783\\u573e/\\u5e72\\u7535\\u6c60\",\n                \"38-\\u6709\\u5bb3\\u5783\\u573e/\\u8f6f\\u818f\",\n                \"39-\\u6709\\u5bb3\\u5783\\u573e/\\u8fc7\\u671f\\u836f\\u7269\"\n            ]\n        }\n    ],\n    \"yAxis\": [\n        {\n            \"show\": true,\n            \"scale\": false,\n            \"nameLocation\": \"end\",\n            \"nameGap\": 15,\n            \"gridIndex\": 0,\n            \"inverse\": false,\n            \"offset\": 0,\n            \"splitNumber\": 5,\n            \"minInterval\": 0,\n            \"splitLine\": {\n                \"show\": false,\n                \"lineStyle\": {\n                    \"show\": true,\n                    \"width\": 1,\n                    \"opacity\": 1,\n                    \"curveness\": 0,\n                    \"type\": \"solid\"\n                }\n            }\n        }\n    ],\n    \"title\": [\n        {\n            \"text\": \"\\u5783\\u573e\\u5206\\u7c7b Train/Val \\u4e0d\\u540c\\u7c7b\\u522b\\u6570\\u636e\\u5206\\u5e03\",\n            \"padding\": 5,\n            \"itemGap\": 10\n        }\n    ]\n};\n                chart_d0d214ea818f475d84ccf3927a09dcf3.setOption(option_d0d214ea818f475d84ccf3927a09dcf3);\n        });\n    </script>\n"
     },
     "metadata": {},
     "execution_count": 60
    }
   ],
   "source": [
    "# 可视化操作\n",
    "from pyecharts import options as opts\n",
    "from pyecharts.charts import Bar\n",
    "# 构建数据\n",
    "## check train == val keys\n",
    "assert train_dict.keys() == val_dict.keys()\n",
    "x = list(train_dict.keys())\n",
    "x = ['{}-{}'.format(label_idx,label_dict[str(label_idx)]) for label_idx in img_label_dict.keys()]\n",
    "## train\n",
    "train_y = list(train_dict.values())\n",
    "val_y = list(val_dict.values())\n",
    "# 创建Bar实例\n",
    "bar = Bar(init_opts=opts.InitOpts(width='800px', height='500px'))\n",
    "bar.add_xaxis(xaxis_data=x)\n",
    "bar.add_yaxis(series_name='train', y_axis=train_y)\n",
    "bar.add_yaxis(series_name='val', y_axis=val_y)\n",
    "# 设置全局参数\n",
    "bar.set_global_opts(\n",
    "    title_opts=opts.TitleOpts(title='垃圾分类 Train/Val 不同类别数据分布'),\n",
    "    xaxis_opts=opts.AxisOpts(axislabel_opts=opts.LabelOpts(rotate=20))\n",
    "    )\n",
    "\n",
    "# 展示图标\n",
    "bar.render_notebook()"
   ]
  },
  {
   "cell_type": "code",
   "execution_count": 51,
   "metadata": {
    "tags": []
   },
   "outputs": [
    {
     "output_type": "stream",
     "name": "stdout",
     "text": "Help on Bar in module pyecharts.charts.basic_charts.bar object:\n\nclass Bar(pyecharts.charts.chart.RectChart)\n |  Bar(init_opts: Union[pyecharts.options.global_options.InitOpts, dict] = <pyecharts.options.global_options.InitOpts object at 0x0000028EBFC73A88>)\n |  \n |  <<< Bar Chart >>>\n |  \n |  Bar chart presents categorical data with rectangular bars\n |  with heights or lengths proportional to the values that they represent.\n |  \n |  Method resolution order:\n |      Bar\n |      pyecharts.charts.chart.RectChart\n |      pyecharts.charts.chart.Chart\n |      pyecharts.charts.base.Base\n |      pyecharts.charts.mixins.ChartMixin\n |      builtins.object\n |  \n |  Methods defined here:\n |  \n |  add_yaxis(self, series_name: str, y_axis: Sequence[Union[int, float, pyecharts.options.charts_options.BarItem, dict]], *, is_selected: bool = True, xaxis_index: Union[int, float, NoneType] = None, yaxis_index: Union[int, float, NoneType] = None, is_legend_hover_link: bool = True, color: Union[str, NoneType] = None, is_show_background: bool = False, background_style: Union[pyecharts.options.charts_options.BarBackgroundStyleOpts, dict, NoneType] = None, stack: Union[str, NoneType] = None, bar_width: Union[int, float, str] = None, bar_max_width: Union[int, float, str] = None, bar_min_width: Union[int, float, str] = None, bar_min_height: Union[int, float] = 0, category_gap: Union[int, float, str] = '20%', gap: Union[str, NoneType] = '30%', is_large: bool = False, large_threshold: Union[int, float] = 400, dimensions: Union[Sequence, NoneType] = None, series_layout_by: str = 'column', dataset_index: Union[int, float] = 0, is_clip: bool = True, z_level: Union[int, float] = 0, z: Union[int, float] = 2, label_opts: Union[pyecharts.options.series_options.LabelOpts, dict, NoneType] = <pyecharts.options.series_options.LabelOpts object at 0x0000028EBFC6E688>, markpoint_opts: Union[pyecharts.options.series_options.MarkPointOpts, dict, NoneType] = None, markline_opts: Union[pyecharts.options.series_options.MarkLineOpts, dict, NoneType] = None, tooltip_opts: Union[pyecharts.options.global_options.TooltipOpts, dict, NoneType] = None, itemstyle_opts: Union[pyecharts.options.series_options.ItemStyleOpts, dict, NoneType] = None, encode: Union[str, pyecharts.commons.utils.JsCode, dict, NoneType] = None)\n |  \n |  ----------------------------------------------------------------------\n |  Methods inherited from pyecharts.charts.chart.RectChart:\n |  \n |  __init__(self, init_opts: Union[pyecharts.options.global_options.InitOpts, dict] = <pyecharts.options.global_options.InitOpts object at 0x0000028EBFC73A88>)\n |      Initialize self.  See help(type(self)) for accurate signature.\n |  \n |  add_xaxis(self, xaxis_data: Sequence)\n |  \n |  extend_axis(self, xaxis_data: Sequence = None, xaxis: Union[pyecharts.options.global_options.AxisOpts, dict, NoneType] = None, yaxis: Union[pyecharts.options.global_options.AxisOpts, dict, NoneType] = None)\n |  \n |  overlap(self, chart: pyecharts.charts.base.Base)\n |  \n |  reversal_axis(self)\n |  \n |  ----------------------------------------------------------------------\n |  Methods inherited from pyecharts.charts.chart.Chart:\n |  \n |  add_dataset(self, source: Union[Sequence, str, pyecharts.commons.utils.JsCode] = None, dimensions: Union[Sequence, NoneType] = None, source_header: Union[bool, NoneType] = None)\n |  \n |  set_colors(self, colors: Sequence[str])\n |  \n |  set_global_opts(self, title_opts: Union[pyecharts.options.global_options.TitleOpts, dict] = <pyecharts.options.global_options.TitleOpts object at 0x0000028EBF0F0BC8>, legend_opts: Union[pyecharts.options.global_options.LegendOpts, dict] = <pyecharts.options.global_options.LegendOpts object at 0x0000028EBFC73908>, tooltip_opts: Union[pyecharts.options.global_options.TooltipOpts, dict, NoneType] = None, toolbox_opts: Union[pyecharts.options.global_options.ToolboxOpts, dict] = None, brush_opts: Union[pyecharts.options.global_options.BrushOpts, dict, NoneType] = None, xaxis_opts: Union[pyecharts.options.global_options.AxisOpts, dict, NoneType] = None, yaxis_opts: Union[pyecharts.options.global_options.AxisOpts, dict, NoneType] = None, visualmap_opts: Union[pyecharts.options.global_options.VisualMapOpts, dict, Sequence[Union[pyecharts.options.global_options.VisualMapOpts, dict]], NoneType] = None, datazoom_opts: Union[pyecharts.options.global_options.DataZoomOpts, dict, Sequence[Union[pyecharts.options.global_options.DataZoomOpts, dict]], NoneType] = None, graphic_opts: Union[pyecharts.options.charts_options.BaseGraphic, dict, Sequence[Union[pyecharts.options.charts_options.BaseGraphic, dict]], NoneType] = None, axispointer_opts: Union[pyecharts.options.global_options.AxisPointerOpts, dict, NoneType] = None)\n |  \n |  set_series_opts(self, label_opts: Union[pyecharts.options.series_options.LabelOpts, dict, NoneType] = None, linestyle_opts: Union[pyecharts.options.series_options.LineStyleOpts, dict, NoneType] = None, splitline_opts: Union[pyecharts.options.series_options.SplitLineOpts, dict, NoneType] = None, areastyle_opts: Union[pyecharts.options.series_options.AreaStyleOpts, dict, NoneType] = None, axisline_opts: Union[pyecharts.options.global_options.AxisLineOpts, dict, NoneType] = None, markpoint_opts: Union[pyecharts.options.series_options.MarkPointOpts, dict, NoneType] = None, markline_opts: Union[pyecharts.options.series_options.MarkLineOpts, dict, NoneType] = None, markarea_opts: Union[pyecharts.options.series_options.MarkAreaOpts, dict, NoneType] = None, effect_opts: Union[pyecharts.options.series_options.EffectOpts, dict, NoneType] = <pyecharts.options.series_options.EffectOpts object at 0x0000028EBFC6EBC8>, tooltip_opts: Union[pyecharts.options.global_options.TooltipOpts, dict, NoneType] = None, itemstyle_opts: Union[pyecharts.options.series_options.ItemStyleOpts, dict, NoneType] = None, **kwargs)\n |  \n |  ----------------------------------------------------------------------\n |  Methods inherited from pyecharts.charts.base.Base:\n |  \n |  dump_options(self) -> str\n |  \n |  dump_options_with_quotes(self) -> str\n |  \n |  get_options(self) -> dict\n |  \n |  render(self, path: str = 'render.html', template_name: str = 'simple_chart.html', env: Union[jinja2.environment.Environment, NoneType] = None, **kwargs) -> str\n |  \n |  render_embed(self, template_name: str = 'simple_chart.html', env: Union[jinja2.environment.Environment, NoneType] = None, **kwargs) -> str\n |  \n |  render_notebook(self)\n |  \n |  ----------------------------------------------------------------------\n |  Methods inherited from pyecharts.charts.mixins.ChartMixin:\n |  \n |  add_js_funcs(self, *fns)\n |  \n |  load_javascript(self)\n |  \n |  ----------------------------------------------------------------------\n |  Data descriptors inherited from pyecharts.charts.mixins.ChartMixin:\n |  \n |  __dict__\n |      dictionary for instance variables (if defined)\n |  \n |  __weakref__\n |      list of weak references to the object (if defined)\n\n"
    }
   ],
   "source": [
    "help(bar)"
   ]
  },
  {
   "cell_type": "code",
   "execution_count": null,
   "metadata": {},
   "outputs": [],
   "source": []
  },
  {
   "cell_type": "code",
   "execution_count": null,
   "metadata": {},
   "outputs": [],
   "source": []
  }
 ],
 "metadata": {
  "language_info": {
   "codemirror_mode": {
    "name": "ipython",
    "version": 3
   },
   "file_extension": ".py",
   "mimetype": "text/x-python",
   "name": "python",
   "nbconvert_exporter": "python",
   "pygments_lexer": "ipython3",
   "version": 3
  },
  "orig_nbformat": 2,
  "kernelspec": {
   "name": "python_defaultSpec_1594976130321",
   "display_name": "Python 3.7.0 64-bit ('Continuum': virtualenv)"
  }
 },
 "nbformat": 4,
 "nbformat_minor": 2
}