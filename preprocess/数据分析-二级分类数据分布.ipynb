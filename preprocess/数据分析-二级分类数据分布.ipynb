{
 "cells": [
  {
   "cell_type": "markdown",
   "metadata": {},
   "source": [
    "## 数据分析概括"
   ]
  },
  {
   "cell_type": "markdown",
   "metadata": {},
   "source": [
    "## 整体数据探测"
   ]
  },
  {
   "cell_type": "code",
   "execution_count": 6,
   "metadata": {
    "tags": []
   },
   "outputs": [
    {
     "output_type": "stream",
     "name": "stdout",
     "text": "../../data/garbage_classify/train_data\n************************************************************\n整个目录: ../../data/garbage_classify/train_data\n所有数目: 29604\n文件名例子: ['img_1.jpg', 'img_1.txt', 'img_10.jpg', 'img_10.txt', 'img_100.jpg']\n"
    }
   ],
   "source": [
    "import os \n",
    "from os import walk #方法用于通过在目录树中游走输出在目录中的文件名，向上或者向下。\n",
    "\n",
    "base_path = '../../data/'\n",
    "data_path = os.path.join(base_path, 'garbage_classify/train_data')\n",
    "\n",
    "# 数据路径\n",
    "print(data_path)\n",
    "\n",
    "for (dirpath, dirname, filename) in walk(data_path):\n",
    "    print(\"*\"*60)\n",
    "\n",
    "    print(\"整个目录:\",dirpath)\n",
    "\n",
    "    print(\"所有数目:\",len(filename))\n",
    "\n",
    "    print(\"文件名例子:\", filename[:5])"
   ]
  },
  {
   "cell_type": "markdown",
   "metadata": {},
   "source": [
    "我们需要分析 *.txt 文件 然后img.txt \n",
    "首先 我们需要配置 txt文件输出\n"
   ]
  },
  {
   "cell_type": "code",
   "execution_count": 33,
   "metadata": {
    "tags": []
   },
   "outputs": [
    {
     "output_type": "stream",
     "name": "stdout",
     "text": "{0: 242, 2: 279, 21: 657, 22: 375, 23: 309, 24: 318, 3: 85, 25: 550, 26: 351, 4: 387, 27: 536, 28: 382, 29: 416, 30: 321, 31: 446, 32: 280, 33: 322, 34: 395, 35: 351, 36: 265, 5: 289, 37: 322, 38: 391, 39: 437, 6: 395, 7: 362, 8: 380, 1: 370, 9: 389, 10: 387, 11: 736, 12: 331, 13: 409, 14: 357, 15: 419, 16: 352, 17: 309, 18: 362, 19: 312, 20: 226}\n"
    }
   ],
   "source": [
    "from glob import glob  # 用它可以查找符合自己目的的文件\n",
    "\n",
    "def get_image_info():\n",
    "\n",
    "    data_txt_path = os.path.join(data_path, '*.txt')\n",
    "    txt_file_path = glob(data_txt_path)\n",
    "    # print(txt_file_path[:2])\n",
    "\n",
    "\n",
    "    ## 存储txt文件中的变量\n",
    "    img_path_list = []\n",
    "    img_name2label_dict = dict()\n",
    "    img_label_dict = dict()\n",
    "    # 读取文件中的内容\n",
    "    for file_path in txt_file_path:\n",
    "        with open(file_path, 'r') as f:\n",
    "            line = f.readline()\n",
    "        # print(line)\n",
    "        line.strip()\n",
    "        img_name = line.split(',')[0]\n",
    "        img_label = line.split(',')[1]\n",
    "        img_label = int(img_label)\n",
    "        \n",
    "        # 图片路径\n",
    "        img_name_path = os.path.join(base_path, 'garbage_classify/train_data/{}'.format(img_name))\n",
    "        img_path_list.append(\n",
    "            {\n",
    "                'img_name_path':img_name_path,\n",
    "                'img_label':img_label\n",
    "            }\n",
    "        )\n",
    "\n",
    "\n",
    "        # 图片的名称-标签\n",
    "        img_name2label_dict[img_name] = img_label\n",
    "\n",
    "        # 每一个标签出现的次数\n",
    "        img_label_count = img_label_dict.get(img_label, 0)\n",
    "        if img_label_count:\n",
    "            img_label_dict[img_label] = img_label_count+1\n",
    "        else:\n",
    "            img_label_dict[img_label] = 1\n",
    "\n",
    "\n",
    "    \n",
    "    return img_path_list,img_name2label_dict,img_label_dict\n",
    "\n",
    "img_path_list,img_name2label_dict,img_label_dict= get_image_info()\n",
    "print(img_label_dict)\n"
   ]
  },
  {
   "cell_type": "code",
   "execution_count": 50,
   "metadata": {
    "tags": []
   },
   "outputs": [
    {
     "output_type": "stream",
     "name": "stdout",
     "text": "Help on built-in function sorted in module builtins:\n\nsorted(iterable, /, *, key=None, reverse=False)\n    Return a new list containing all items from the iterable in ascending order.\n    \n    A custom key function can be supplied to customize the sort order, and the\n    reverse flag can be set to request the result in descending order.\n\n"
    }
   ],
   "source": [
    "help(sorted)"
   ]
  },
  {
   "cell_type": "code",
   "execution_count": 57,
   "metadata": {},
   "outputs": [],
   "source": [
    "img_label_dict = dict(sorted(img_label_dict.items()))"
   ]
  },
  {
   "cell_type": "code",
   "execution_count": 81,
   "metadata": {},
   "outputs": [],
   "source": [
    "import json\n",
    "label_dict = dict()\n",
    "json_data_path = r'D:/ai/data/garbage_classify/garbage_classify_rule.json'\n",
    "with open(json_data_path, encoding='utf-8') as f:\n",
    "    label_dict = json.load(f)\n"
   ]
  },
  {
   "cell_type": "markdown",
   "metadata": {},
   "source": [
    "## 数据不同类别分布\n",
    "* pyecharts"
   ]
  },
  {
   "cell_type": "code",
   "execution_count": 86,
   "metadata": {
    "tags": []
   },
   "outputs": [
    {
     "output_type": "stream",
     "name": "stdout",
     "text": "x= dict_keys([0, 1, 2, 3, 4, 5, 6, 7, 8, 9, 10, 11, 12, 13, 14, 15, 16, 17, 18, 19, 20, 21, 22, 23, 24, 25, 26, 27, 28, 29, 30, 31, 32, 33, 34, 35, 36, 37, 38, 39])\ny= dict_values([242, 370, 279, 85, 387, 289, 395, 362, 380, 389, 387, 736, 331, 409, 357, 419, 352, 309, 362, 312, 226, 657, 375, 309, 318, 550, 351, 536, 382, 416, 321, 446, 280, 322, 395, 351, 265, 322, 391, 437])\n"
    }
   ],
   "source": [
    "# 首先构造数\n",
    "x = img_label_dict.keys()\n",
    "y = img_label_dict.values()\n",
    "print(\"x=\",x)\n",
    "print(\"y=\",y)\n",
    "# 借助python 列表推导式来修改x\n",
    "x = ['{}-{}'.format(label_idx,label_dict[str(label_idx)]) for label_idx in img_label_dict.keys()]"
   ]
  },
  {
   "cell_type": "code",
   "execution_count": 93,
   "metadata": {
    "tags": []
   },
   "outputs": [
    {
     "output_type": "stream",
     "name": "stderr",
     "text": "C:\\Users\\lzn\\AppData\\Local\\Continuum\\anaconda3\\lib\\site-packages\\pyecharts\\charts\\chart.py:14: PendingDeprecationWarning: pyecharts 所有图表类型将在 v1.9.0 版本开始强制使用 ChartItem 进行数据项配置 :)\n  super().__init__(init_opts=init_opts)\n"
    },
    {
     "output_type": "execute_result",
     "data": {
      "text/plain": "<pyecharts.render.display.HTML at 0x1e24420ff28>",
      "text/html": "\n<script>\n    require.config({\n        paths: {\n            'echarts':'https://assets.pyecharts.org/assets/echarts.min'\n        }\n    });\n</script>\n\n        <div id=\"4c4952a4bc734adfb8065e5b8fba17a9\" style=\"width:1100px; height:500px;\"></div>\n\n<script>\n        require(['echarts'], function(echarts) {\n                var chart_4c4952a4bc734adfb8065e5b8fba17a9 = echarts.init(\n                    document.getElementById('4c4952a4bc734adfb8065e5b8fba17a9'), 'white', {renderer: 'canvas'});\n                var option_4c4952a4bc734adfb8065e5b8fba17a9 = {\n    \"animation\": true,\n    \"animationThreshold\": 2000,\n    \"animationDuration\": 1000,\n    \"animationEasing\": \"cubicOut\",\n    \"animationDelay\": 0,\n    \"animationDurationUpdate\": 300,\n    \"animationEasingUpdate\": \"cubicOut\",\n    \"animationDelayUpdate\": 0,\n    \"color\": [\n        \"#c23531\",\n        \"#2f4554\",\n        \"#61a0a8\",\n        \"#d48265\",\n        \"#749f83\",\n        \"#ca8622\",\n        \"#bda29a\",\n        \"#6e7074\",\n        \"#546570\",\n        \"#c4ccd3\",\n        \"#f05b72\",\n        \"#ef5b9c\",\n        \"#f47920\",\n        \"#905a3d\",\n        \"#fab27b\",\n        \"#2a5caa\",\n        \"#444693\",\n        \"#726930\",\n        \"#b2d235\",\n        \"#6d8346\",\n        \"#ac6767\",\n        \"#1d953f\",\n        \"#6950a1\",\n        \"#918597\"\n    ],\n    \"series\": [\n        {\n            \"type\": \"bar\",\n            \"legendHoverLink\": true,\n            \"data\": [\n                242,\n                370,\n                279,\n                85,\n                387,\n                289,\n                395,\n                362,\n                380,\n                389,\n                387,\n                736,\n                331,\n                409,\n                357,\n                419,\n                352,\n                309,\n                362,\n                312,\n                226,\n                657,\n                375,\n                309,\n                318,\n                550,\n                351,\n                536,\n                382,\n                416,\n                321,\n                446,\n                280,\n                322,\n                395,\n                351,\n                265,\n                322,\n                391,\n                437\n            ],\n            \"showBackground\": false,\n            \"barMinHeight\": 0,\n            \"barCategoryGap\": \"20%\",\n            \"barGap\": \"30%\",\n            \"large\": false,\n            \"largeThreshold\": 400,\n            \"seriesLayoutBy\": \"column\",\n            \"datasetIndex\": 0,\n            \"clip\": true,\n            \"zlevel\": 0,\n            \"z\": 2,\n            \"label\": {\n                \"show\": true,\n                \"position\": \"top\",\n                \"margin\": 8\n            }\n        }\n    ],\n    \"legend\": [\n        {\n            \"data\": [\n                \"\"\n            ],\n            \"selected\": {\n                \"\": true\n            },\n            \"show\": true,\n            \"padding\": 5,\n            \"itemGap\": 10,\n            \"itemWidth\": 25,\n            \"itemHeight\": 14\n        }\n    ],\n    \"tooltip\": {\n        \"show\": true,\n        \"trigger\": \"item\",\n        \"triggerOn\": \"mousemove|click\",\n        \"axisPointer\": {\n            \"type\": \"line\"\n        },\n        \"showContent\": true,\n        \"alwaysShowContent\": false,\n        \"showDelay\": 0,\n        \"hideDelay\": 100,\n        \"textStyle\": {\n            \"fontSize\": 14\n        },\n        \"borderWidth\": 0,\n        \"padding\": 5\n    },\n    \"xAxis\": [\n        {\n            \"show\": true,\n            \"scale\": false,\n            \"nameLocation\": \"end\",\n            \"nameGap\": 15,\n            \"gridIndex\": 0,\n            \"axisLabel\": {\n                \"show\": true,\n                \"position\": \"top\",\n                \"rotate\": 20,\n                \"margin\": 8\n            },\n            \"inverse\": false,\n            \"offset\": 0,\n            \"splitNumber\": 5,\n            \"minInterval\": 0,\n            \"splitLine\": {\n                \"show\": false,\n                \"lineStyle\": {\n                    \"show\": true,\n                    \"width\": 1,\n                    \"opacity\": 1,\n                    \"curveness\": 0,\n                    \"type\": \"solid\"\n                }\n            },\n            \"data\": [\n                \"0-\\u5176\\u4ed6\\u5783\\u573e/\\u4e00\\u6b21\\u6027\\u5feb\\u9910\\u76d2\",\n                \"1-\\u5176\\u4ed6\\u5783\\u573e/\\u6c61\\u635f\\u5851\\u6599\",\n                \"2-\\u5176\\u4ed6\\u5783\\u573e/\\u70df\\u8482\",\n                \"3-\\u5176\\u4ed6\\u5783\\u573e/\\u7259\\u7b7e\",\n                \"4-\\u5176\\u4ed6\\u5783\\u573e/\\u7834\\u788e\\u82b1\\u76c6\\u53ca\\u789f\\u7897\",\n                \"5-\\u5176\\u4ed6\\u5783\\u573e/\\u7af9\\u7b77\",\n                \"6-\\u53a8\\u4f59\\u5783\\u573e/\\u5269\\u996d\\u5269\\u83dc\",\n                \"7-\\u53a8\\u4f59\\u5783\\u573e/\\u5927\\u9aa8\\u5934\",\n                \"8-\\u53a8\\u4f59\\u5783\\u573e/\\u6c34\\u679c\\u679c\\u76ae\",\n                \"9-\\u53a8\\u4f59\\u5783\\u573e/\\u6c34\\u679c\\u679c\\u8089\",\n                \"10-\\u53a8\\u4f59\\u5783\\u573e/\\u8336\\u53f6\\u6e23\",\n                \"11-\\u53a8\\u4f59\\u5783\\u573e/\\u83dc\\u53f6\\u83dc\\u6839\",\n                \"12-\\u53a8\\u4f59\\u5783\\u573e/\\u86cb\\u58f3\",\n                \"13-\\u53a8\\u4f59\\u5783\\u573e/\\u9c7c\\u9aa8\",\n                \"14-\\u53ef\\u56de\\u6536\\u7269/\\u5145\\u7535\\u5b9d\",\n                \"15-\\u53ef\\u56de\\u6536\\u7269/\\u5305\",\n                \"16-\\u53ef\\u56de\\u6536\\u7269/\\u5316\\u5986\\u54c1\\u74f6\",\n                \"17-\\u53ef\\u56de\\u6536\\u7269/\\u5851\\u6599\\u73a9\\u5177\",\n                \"18-\\u53ef\\u56de\\u6536\\u7269/\\u5851\\u6599\\u7897\\u76c6\",\n                \"19-\\u53ef\\u56de\\u6536\\u7269/\\u5851\\u6599\\u8863\\u67b6\",\n                \"20-\\u53ef\\u56de\\u6536\\u7269/\\u5feb\\u9012\\u7eb8\\u888b\",\n                \"21-\\u53ef\\u56de\\u6536\\u7269/\\u63d2\\u5934\\u7535\\u7ebf\",\n                \"22-\\u53ef\\u56de\\u6536\\u7269/\\u65e7\\u8863\\u670d\",\n                \"23-\\u53ef\\u56de\\u6536\\u7269/\\u6613\\u62c9\\u7f50\",\n                \"24-\\u53ef\\u56de\\u6536\\u7269/\\u6795\\u5934\",\n                \"25-\\u53ef\\u56de\\u6536\\u7269/\\u6bdb\\u7ed2\\u73a9\\u5177\",\n                \"26-\\u53ef\\u56de\\u6536\\u7269/\\u6d17\\u53d1\\u6c34\\u74f6\",\n                \"27-\\u53ef\\u56de\\u6536\\u7269/\\u73bb\\u7483\\u676f\",\n                \"28-\\u53ef\\u56de\\u6536\\u7269/\\u76ae\\u978b\",\n                \"29-\\u53ef\\u56de\\u6536\\u7269/\\u7827\\u677f\",\n                \"30-\\u53ef\\u56de\\u6536\\u7269/\\u7eb8\\u677f\\u7bb1\",\n                \"31-\\u53ef\\u56de\\u6536\\u7269/\\u8c03\\u6599\\u74f6\",\n                \"32-\\u53ef\\u56de\\u6536\\u7269/\\u9152\\u74f6\",\n                \"33-\\u53ef\\u56de\\u6536\\u7269/\\u91d1\\u5c5e\\u98df\\u54c1\\u7f50\",\n                \"34-\\u53ef\\u56de\\u6536\\u7269/\\u9505\",\n                \"35-\\u53ef\\u56de\\u6536\\u7269/\\u98df\\u7528\\u6cb9\\u6876\",\n                \"36-\\u53ef\\u56de\\u6536\\u7269/\\u996e\\u6599\\u74f6\",\n                \"37-\\u6709\\u5bb3\\u5783\\u573e/\\u5e72\\u7535\\u6c60\",\n                \"38-\\u6709\\u5bb3\\u5783\\u573e/\\u8f6f\\u818f\",\n                \"39-\\u6709\\u5bb3\\u5783\\u573e/\\u8fc7\\u671f\\u836f\\u7269\"\n            ]\n        }\n    ],\n    \"yAxis\": [\n        {\n            \"show\": true,\n            \"scale\": false,\n            \"nameLocation\": \"end\",\n            \"nameGap\": 15,\n            \"gridIndex\": 0,\n            \"inverse\": false,\n            \"offset\": 0,\n            \"splitNumber\": 5,\n            \"minInterval\": 0,\n            \"splitLine\": {\n                \"show\": false,\n                \"lineStyle\": {\n                    \"show\": true,\n                    \"width\": 1,\n                    \"opacity\": 1,\n                    \"curveness\": 0,\n                    \"type\": \"solid\"\n                }\n            }\n        }\n    ],\n    \"title\": [\n        {\n            \"text\": \"\\u5783\\u573e\\u5206\\u7c7b \\u4e0d\\u540c\\u7c7b\\u522b\\u6570\\u636e\\u5206\\u5e03\",\n            \"padding\": 5,\n            \"itemGap\": 10\n        }\n    ]\n};\n                chart_4c4952a4bc734adfb8065e5b8fba17a9.setOption(option_4c4952a4bc734adfb8065e5b8fba17a9);\n        });\n    </script>\n"
     },
     "metadata": {},
     "execution_count": 93
    }
   ],
   "source": [
    "# 通过pyecharts来进行绘制图表\n",
    "from pyecharts import options as opts \n",
    "from pyecharts.charts import Bar\n",
    "# 构建pyecharts需要的数据\n",
    "x = list(x)\n",
    "y = list(y)\n",
    "# 创建pyecharts的Bar实例对象\n",
    "bar = Bar(init_opts=opts.InitOpts(width='1100px', height='500px'))\n",
    "# 填充数据\n",
    "bar.add_xaxis(xaxis_data=x)\n",
    "bar.add_yaxis(series_name='', y_axis=y)\n",
    "# 设置一些全局的参数\n",
    "bar.set_global_opts(\n",
    "    # 给图标设置标题\n",
    "    title_opts=opts.TitleOpts(title=\"垃圾分类 不同类别数据分布\"), \n",
    "    # 使得x轴数据倾斜\n",
    "    xaxis_opts=opts.AxisOpts(axislabel_opts=opts.LabelOpts(rotate=20)))\n",
    "\n",
    "# 展示我们的图表\n",
    "bar.render_notebook()"
   ]
  },
  {
   "cell_type": "code",
   "execution_count": null,
   "metadata": {},
   "outputs": [],
   "source": []
  },
  {
   "cell_type": "code",
   "execution_count": null,
   "metadata": {},
   "outputs": [],
   "source": []
  }
 ],
 "metadata": {
  "language_info": {
   "codemirror_mode": {
    "name": "ipython",
    "version": 3
   },
   "file_extension": ".py",
   "mimetype": "text/x-python",
   "name": "python",
   "nbconvert_exporter": "python",
   "pygments_lexer": "ipython3",
   "version": 3
  },
  "orig_nbformat": 2,
  "kernelspec": {
   "name": "python_defaultSpec_1594953170692",
   "display_name": "Python 3.7.0 64-bit ('Continuum': virtualenv)"
  }
 },
 "nbformat": 4,
 "nbformat_minor": 2
}