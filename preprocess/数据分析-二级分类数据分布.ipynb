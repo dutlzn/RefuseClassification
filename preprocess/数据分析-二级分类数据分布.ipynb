{
 "cells": [
  {
   "cell_type": "markdown",
   "metadata": {},
   "source": [
    "## 数据分析概括"
   ]
  },
  {
   "cell_type": "markdown",
   "metadata": {},
   "source": [
    "## 整体数据探测"
   ]
  },
  {
   "cell_type": "code",
   "execution_count": 6,
   "metadata": {
    "tags": []
   },
   "outputs": [
    {
     "output_type": "stream",
     "name": "stdout",
     "text": "../../data/garbage_classify/train_data\n************************************************************\n整个目录: ../../data/garbage_classify/train_data\n所有数目: 29604\n文件名例子: ['img_1.jpg', 'img_1.txt', 'img_10.jpg', 'img_10.txt', 'img_100.jpg']\n"
    }
   ],
   "source": [
    "import os \n",
    "from os import walk #方法用于通过在目录树中游走输出在目录中的文件名，向上或者向下。\n",
    "\n",
    "base_path = '../../data/'\n",
    "data_path = os.path.join(base_path, 'garbage_classify/train_data')\n",
    "\n",
    "# 数据路径\n",
    "print(data_path)\n",
    "\n",
    "for (dirpath, dirname, filename) in walk(data_path):\n",
    "    print(\"*\"*60)\n",
    "\n",
    "    print(\"整个目录:\",dirpath)\n",
    "\n",
    "    print(\"所有数目:\",len(filename))\n",
    "\n",
    "    print(\"文件名例子:\", filename[:5])"
   ]
  },
  {
   "cell_type": "markdown",
   "metadata": {},
   "source": [
    "我们需要分析 *.txt 文件 然后img.txt \n",
    "首先 我们需要配置 txt文件输出\n"
   ]
  },
  {
   "cell_type": "code",
   "execution_count": 33,
   "metadata": {
    "tags": []
   },
   "outputs": [
    {
     "output_type": "stream",
     "name": "stdout",
     "text": "{0: 242, 2: 279, 21: 657, 22: 375, 23: 309, 24: 318, 3: 85, 25: 550, 26: 351, 4: 387, 27: 536, 28: 382, 29: 416, 30: 321, 31: 446, 32: 280, 33: 322, 34: 395, 35: 351, 36: 265, 5: 289, 37: 322, 38: 391, 39: 437, 6: 395, 7: 362, 8: 380, 1: 370, 9: 389, 10: 387, 11: 736, 12: 331, 13: 409, 14: 357, 15: 419, 16: 352, 17: 309, 18: 362, 19: 312, 20: 226}\n"
    }
   ],
   "source": [
    "from glob import glob  # 用它可以查找符合自己目的的文件\n",
    "\n",
    "def get_image_info():\n",
    "\n",
    "    data_txt_path = os.path.join(data_path, '*.txt')\n",
    "    txt_file_path = glob(data_txt_path)\n",
    "    # print(txt_file_path[:2])\n",
    "\n",
    "\n",
    "    ## 存储txt文件中的变量\n",
    "    img_path_list = []\n",
    "    img_name2label_dict = dict()\n",
    "    img_label_dict = dict()\n",
    "    # 读取文件中的内容\n",
    "    for file_path in txt_file_path:\n",
    "        with open(file_path, 'r') as f:\n",
    "            line = f.readline()\n",
    "        # print(line)\n",
    "        line.strip()\n",
    "        img_name = line.split(',')[0]\n",
    "        img_label = line.split(',')[1]\n",
    "        img_label = int(img_label)\n",
    "        \n",
    "        # 图片路径\n",
    "        img_name_path = os.path.join(base_path, 'garbage_classify/train_data/{}'.format(img_name))\n",
    "        img_path_list.append(\n",
    "            {\n",
    "                'img_name_path':img_name_path,\n",
    "                'img_label':img_label\n",
    "            }\n",
    "        )\n",
    "\n",
    "\n",
    "        # 图片的名称-标签\n",
    "        img_name2label_dict[img_name] = img_label\n",
    "\n",
    "        # 每一个标签出现的次数\n",
    "        img_label_count = img_label_dict.get(img_label, 0)\n",
    "        if img_label_count:\n",
    "            img_label_dict[img_label] = img_label_count+1\n",
    "        else:\n",
    "            img_label_dict[img_label] = 1\n",
    "\n",
    "\n",
    "    \n",
    "    return img_path_list,img_name2label_dict,img_label_dict\n",
    "\n",
    "img_path_list,img_name2label_dict,img_label_dict= get_image_info()\n",
    "print(img_label_dict)\n"
   ]
  },
  {
   "cell_type": "code",
   "execution_count": 19,
   "metadata": {},
   "outputs": [
    {
     "output_type": "execute_result",
     "data": {
      "text/plain": "1"
     },
     "metadata": {},
     "execution_count": 19
    }
   ],
   "source": []
  },
  {
   "cell_type": "code",
   "execution_count": null,
   "metadata": {},
   "outputs": [],
   "source": []
  }
 ],
 "metadata": {
  "language_info": {
   "codemirror_mode": {
    "name": "ipython",
    "version": 3
   },
   "file_extension": ".py",
   "mimetype": "text/x-python",
   "name": "python",
   "nbconvert_exporter": "python",
   "pygments_lexer": "ipython3",
   "version": 3
  },
  "orig_nbformat": 2,
  "kernelspec": {
   "name": "python_defaultSpec_1594953170692",
   "display_name": "Python 3.7.0 64-bit ('Continuum': virtualenv)"
  }
 },
 "nbformat": 4,
 "nbformat_minor": 2
}