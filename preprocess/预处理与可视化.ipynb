{
 "cells": [
  {
   "cell_type": "markdown",
   "metadata": {},
   "source": [
    "# 数据探测"
   ]
  },
  {
   "cell_type": "code",
   "execution_count": 4,
   "metadata": {
    "tags": []
   },
   "outputs": [
    {
     "output_type": "stream",
     "name": "stdout",
     "text": "['train', 'train.txt', 'val', 'val.txt']\n**********\ndirector path: ../../data/refuse_data\ntotal examples: 2\nfile name examples: ['train.txt', 'val.txt']\n**********\ndirector path: ../../data/refuse_data\\train\ntotal examples: 0\nfile name examples: []\n**********\ndirector path: ../../data/refuse_data\\train\\0\ntotal examples: 1300\nfile name examples: ['img_10.jpg', 'img_100.jpg', 'img_1001.jpg']\n**********\ndirector path: ../../data/refuse_data\\train\\1\ntotal examples: 2701\nfile name examples: ['img_2210.jpg', 'img_2211.jpg', 'img_2215.jpg']\n**********\ndirector path: ../../data/refuse_data\\train\\2\ntotal examples: 6912\nfile name examples: ['img_10000.jpg', 'img_10001.jpg', 'img_10002.jpg']\n**********\ndirector path: ../../data/refuse_data\\train\\3\ntotal examples: 928\nfile name examples: ['img_18238.jpg', 'img_18239.jpg', 'img_18241.jpg']\n**********\ndirector path: ../../data/refuse_data\\val\ntotal examples: 0\nfile name examples: []\n**********\ndirector path: ../../data/refuse_data\\val\\0\ntotal examples: 352\nfile name examples: ['img_1.jpg', 'img_1000.jpg', 'img_1011.jpg']\n**********\ndirector path: ../../data/refuse_data\\val\\1\ntotal examples: 688\nfile name examples: ['img_2205.jpg', 'img_2206.jpg', 'img_2208.jpg']\n**********\ndirector path: ../../data/refuse_data\\val\\2\ntotal examples: 1699\nfile name examples: ['img_10012.jpg', 'img_10023.jpg', 'img_10041.jpg']\n**********\ndirector path: ../../data/refuse_data\\val\\3\ntotal examples: 222\nfile name examples: ['img_18235.jpg', 'img_18237.jpg', 'img_18247.jpg']\n"
    }
   ],
   "source": [
    "import os\n",
    "from os import walk \n",
    "import numpy as np \n",
    "import time \n",
    "\n",
    "\n",
    "print(os.listdir('../../data/refuse_data'))\n",
    "\n",
    "for (dirpath, dirnames, filenames) in walk('../../data/refuse_data'):\n",
    "    print(\"*\"*10)\n",
    "    print(\"director path:\", dirpath)\n",
    "    print(\"total examples:\", len(filenames))\n",
    "    print(\"file name examples:\", filenames[:3])"
   ]
  },
  {
   "cell_type": "markdown",
   "metadata": {},
   "source": [
    "# 数据预处理\n",
    "## 导入图像分类库"
   ]
  },
  {
   "cell_type": "code",
   "execution_count": 11,
   "metadata": {},
   "outputs": [],
   "source": [
    "import torch \n",
    "from torchvision import datasets,models,transforms\n",
    "from matplotlib import pyplot as plt\n",
    "import numpy as np \n",
    "# 解决中文乱码问题\n",
    "plt.rcParams['font.sans-serif'] = 'SimHei'"
   ]
  },
  {
   "cell_type": "markdown",
   "metadata": {},
   "source": [
    "## 定义数据输入"
   ]
  },
  {
   "cell_type": "code",
   "execution_count": 12,
   "metadata": {},
   "outputs": [],
   "source": [
    "label_dict = {\n",
    "    \"0\": \"其他垃圾/一次性快餐盒\",\n",
    "    \"1\": \"其他垃圾/污损塑料\",\n",
    "    \"2\": \"其他垃圾/烟蒂\",\n",
    "    \"3\": \"其他垃圾/牙签\",\n",
    "    \"4\": \"其他垃圾/破碎花盆及碟碗\",\n",
    "    \"5\": \"其他垃圾/竹筷\",\n",
    "    \"6\": \"厨余垃圾/剩饭剩菜\",\n",
    "    \"7\": \"厨余垃圾/大骨头\",\n",
    "    \"8\": \"厨余垃圾/水果果皮\",\n",
    "    \"9\": \"厨余垃圾/水果果肉\",\n",
    "    \"10\": \"厨余垃圾/茶叶渣\",\n",
    "    \"11\": \"厨余垃圾/菜叶菜根\",\n",
    "    \"12\": \"厨余垃圾/蛋壳\",\n",
    "    \"13\": \"厨余垃圾/鱼骨\",\n",
    "    \"14\": \"可回收物/充电宝\",\n",
    "    \"15\": \"可回收物/包\",\n",
    "    \"16\": \"可回收物/化妆品瓶\",\n",
    "    \"17\": \"可回收物/塑料玩具\",\n",
    "    \"18\": \"可回收物/塑料碗盆\",\n",
    "    \"19\": \"可回收物/塑料衣架\",\n",
    "    \"20\": \"可回收物/快递纸袋\",\n",
    "    \"21\": \"可回收物/插头电线\",\n",
    "    \"22\": \"可回收物/旧衣服\",\n",
    "    \"23\": \"可回收物/易拉罐\",\n",
    "    \"24\": \"可回收物/枕头\",\n",
    "    \"25\": \"可回收物/毛绒玩具\",\n",
    "    \"26\": \"可回收物/洗发水瓶\",\n",
    "    \"27\": \"可回收物/玻璃杯\",\n",
    "    \"28\": \"可回收物/皮鞋\",\n",
    "    \"29\": \"可回收物/砧板\",\n",
    "    \"30\": \"可回收物/纸板箱\",\n",
    "    \"31\": \"可回收物/调料瓶\",\n",
    "    \"32\": \"可回收物/酒瓶\",\n",
    "    \"33\": \"可回收物/金属食品罐\",\n",
    "    \"34\": \"可回收物/锅\",\n",
    "    \"35\": \"可回收物/食用油桶\",\n",
    "    \"36\": \"可回收物/饮料瓶\",\n",
    "    \"37\": \"有害垃圾/干电池\",\n",
    "    \"38\": \"有害垃圾/软膏\",\n",
    "    \"39\": \"有害垃圾/过期药物\"\n",
    "}"
   ]
  },
  {
   "cell_type": "code",
   "execution_count": 17,
   "metadata": {
    "tags": []
   },
   "outputs": [
    {
     "output_type": "stream",
     "name": "stdout",
     "text": "device: cpu\ntrain_path: ../../data/refuse_data/train\ntest_path: ../../data/refuse_data/val\n"
    }
   ],
   "source": [
    "# 数据tensor 运行方式：cpu cuda\n",
    "device = torch.device('cuda' if torch.cuda.is_available()  else 'cpu')\n",
    "print(\"device:\", device)\n",
    "\n",
    "# 定义数据路径\n",
    "TRAIN = '../../data/refuse_data/train'\n",
    "VAL = '../../data/refuse_data/val'\n",
    "\n",
    "print(\"train_path:\", TRAIN)\n",
    "print(\"test_path:\", VAL)"
   ]
  },
  {
   "cell_type": "markdown",
   "metadata": {},
   "source": [
    "## 原始垃圾数据显示\n"
   ]
  },
  {
   "cell_type": "code",
   "execution_count": null,
   "metadata": {},
   "outputs": [],
   "source": []
  }
 ],
 "metadata": {
  "language_info": {
   "codemirror_mode": {
    "name": "ipython",
    "version": 3
   },
   "file_extension": ".py",
   "mimetype": "text/x-python",
   "name": "python",
   "nbconvert_exporter": "python",
   "pygments_lexer": "ipython3",
   "version": 3
  },
  "orig_nbformat": 2,
  "kernelspec": {
   "name": "python_defaultSpec_1595149874418",
   "display_name": "Python 3.7.0 64-bit ('Continuum': virtualenv)"
  }
 },
 "nbformat": 4,
 "nbformat_minor": 2
}